{
 "cells": [
  {
   "cell_type": "markdown",
   "metadata": {},
   "source": [
    "# MongoDB Tutorial - Monday 22 February 2016\n",
    "\n",
    "## Introduction"
   ]
  },
  {
   "cell_type": "markdown",
   "metadata": {},
   "source": [
    "In what follows, we assume that you have installed MongoDB according to the [instructions online](https://docs.mongodb.org/manual/installation/) and started the mongodb daemon with the following command.\n",
    "\n",
    "> mongod\n",
    "\n",
    "Note that you might have to create a folder `/data/db` with appropriate access rights before the daemon starts successfully.\n",
    "\n",
    "We also assume that you use Python 3 and have the [pymongo driver](http://api.mongodb.org/python/current/installation.html) installed and imported (see also **Setup** instructions at the end of the notebook).\n",
    "\n",
    "** Note ** To run the notebook yourself, [install Jupyter](http://jupyter.readthedocs.org/en/latest/install.html), [download](https://raw.githubusercontent.com/mmathioudakis/moderndb/master/mongodb.tutorial.ipynb) the notebook, and [open it](http://jupyter.readthedocs.org/en/latest/running.html) with Jupyter.\n",
    "\n",
    "** Note ** This notebook might be updated later. Major updates will be listed at the bottom of it, but you can also check the updates on [github](https://github.com/mmathioudakis/moderndb)."
   ]
  },
  {
   "cell_type": "markdown",
   "metadata": {},
   "source": [
    "## \"Hello World!\" : Databases, Collections, Documents\n",
    "\n",
    "*Relational databases* contain *tables* that contain *records*.\n",
    "\n",
    "A **MongoDB database** contains **collections** that contain **documents**."
   ]
  },
  {
   "cell_type": "code",
   "execution_count": 3,
   "metadata": {
    "collapsed": true
   },
   "outputs": [],
   "source": [
    "# start a client\n",
    "client = pm.MongoClient() \n",
    "\n",
    "# connect to a database\n",
    "db = client.moderndb\n",
    "\n",
    "# get a collection\n",
    "coll = db.test_collection"
   ]
  },
  {
   "cell_type": "markdown",
   "metadata": {},
   "source": [
    "Documents follow the [JSON](http://json.org/) format and MongoDB stores them in a binary version of it ([BSON](http://bsonspec.org/)).\n",
    "<img src = \"http://json.org/object.gif\">\n",
    "<img src = \"http://json.org/array.gif\">\n",
    "<img src = \"http://json.org/value.gif\">\n",
    "\n",
    "Below you see examples of JSON documents.\n",
    "\n",
    "** JSON example 0 **\n",
    "```\n",
    "{}\n",
    "```\n",
    "\n",
    "** JSON example 1 **\n",
    "```\n",
    "{\n",
    "\"name\" : \"Michael\",\n",
    "\"age\": 32,\n",
    "\"grades\": [71, 85, 90, 34]\n",
    "}\n",
    "```\n",
    "\n",
    "** JSON example 2 **\n",
    "\n",
    "```\n",
    "{\n",
    "  \"first name\": \"Michael\",\n",
    "  \"last name\": \"Mathioudakis\",\n",
    "  \"age\": 32,\n",
    "  \"grades\": {\n",
    "    \"ModernDB\": 69,\n",
    "    \"Data Mining\": 71,\n",
    "    \"Machine Learning\": 95\n",
    "  },\n",
    "  \"graduated\": true,\n",
    "  \"previous schools\": [\"NTUA\", \"UofT\"]\n",
    "}\n",
    "```"
   ]
  },
  {
   "cell_type": "markdown",
   "metadata": {},
   "source": [
    "In Python, JSON documents are represented as dictionaries.\n",
    "The examples from above are therefore represented as follows."
   ]
  },
  {
   "cell_type": "code",
   "execution_count": 4,
   "metadata": {
    "collapsed": true
   },
   "outputs": [],
   "source": [
    "example_0 = {}"
   ]
  },
  {
   "cell_type": "code",
   "execution_count": 5,
   "metadata": {
    "collapsed": true
   },
   "outputs": [],
   "source": [
    "example_1 = {\"name\": \"Michael\", \"age\": 32, \"grades\": [71, 85, 90, 34]}"
   ]
  },
  {
   "cell_type": "code",
   "execution_count": 6,
   "metadata": {
    "collapsed": true
   },
   "outputs": [],
   "source": [
    "example_2 = \\\n",
    "{\"first name\": \"Michael\",\n",
    "  \"last name\": \"Mathioudakis\",\n",
    "  \"age\": 32,\n",
    "  \"grades\": {\n",
    "    \"ModernDB\": 69,\n",
    "    \"Data Mining\": 71,\n",
    "    \"Machine Learning\": 95\n",
    "  },\n",
    "  \"graduated\": True,\n",
    "  \"previous schools\": [\"NTUA\", \"UofT\"]\n",
    "}"
   ]
  },
  {
   "cell_type": "markdown",
   "metadata": {},
   "source": [
    "Note that we can also use native Python objects, like the `datetime` object below, to specify values."
   ]
  },
  {
   "cell_type": "code",
   "execution_count": 7,
   "metadata": {
    "collapsed": false
   },
   "outputs": [],
   "source": [
    "import datetime\n",
    "example_3 = {\"name\": \"Modern Database Systems\",\n",
    "          \"start\": datetime.datetime(2016, 1, 12),\n",
    "          \"end\": datetime.datetime(2016, 3, 26),\n",
    "          \"tags\": [\"rdbms\", \"mongodb\", \"spark\"]}"
   ]
  },
  {
   "cell_type": "markdown",
   "metadata": {},
   "source": [
    "### Inserting and finding documents\n",
    "\n",
    "Our collection `coll` is currently empty. Let's add one document to it."
   ]
  },
  {
   "cell_type": "code",
   "execution_count": 8,
   "metadata": {
    "collapsed": false,
    "scrolled": true
   },
   "outputs": [
    {
     "data": {
      "text/plain": [
       "<pymongo.results.InsertOneResult at 0x1053a6708>"
      ]
     },
     "execution_count": 8,
     "metadata": {},
     "output_type": "execute_result"
    }
   ],
   "source": [
    "coll.insert_one(example_0)"
   ]
  },
  {
   "cell_type": "markdown",
   "metadata": {},
   "source": [
    "If we call the collection's function `find()`, we get back a cursor."
   ]
  },
  {
   "cell_type": "code",
   "execution_count": 9,
   "metadata": {
    "collapsed": false
   },
   "outputs": [
    {
     "data": {
      "text/plain": [
       "<pymongo.cursor.Cursor at 0x1053aeb38>"
      ]
     },
     "execution_count": 9,
     "metadata": {},
     "output_type": "execute_result"
    }
   ],
   "source": [
    "coll.find()"
   ]
  },
  {
   "cell_type": "markdown",
   "metadata": {},
   "source": [
    "We can use the cursor to iterate over all documents in the collection."
   ]
  },
  {
   "cell_type": "code",
   "execution_count": 10,
   "metadata": {
    "collapsed": false
   },
   "outputs": [
    {
     "name": "stdout",
     "output_type": "stream",
     "text": [
      "{'_id': ObjectId('56d07e9e12b680613210553a')}\n"
     ]
    }
   ],
   "source": [
    "for doc in coll.find():\n",
    "    print(doc)"
   ]
  },
  {
   "cell_type": "markdown",
   "metadata": {},
   "source": [
    "Notice that the empty document we inserted is not *really* empty, but associated with an \"\\_id\" key, added by MongoDB.\n",
    "\n",
    "Let's try another one."
   ]
  },
  {
   "cell_type": "code",
   "execution_count": 11,
   "metadata": {
    "collapsed": false
   },
   "outputs": [
    {
     "data": {
      "text/plain": [
       "<pymongo.results.InsertOneResult at 0x1053a6af8>"
      ]
     },
     "execution_count": 11,
     "metadata": {},
     "output_type": "execute_result"
    }
   ],
   "source": [
    "coll.insert_one(example_1)"
   ]
  },
  {
   "cell_type": "code",
   "execution_count": 12,
   "metadata": {
    "collapsed": false
   },
   "outputs": [
    {
     "name": "stdout",
     "output_type": "stream",
     "text": [
      "{'_id': ObjectId('56d07e9e12b680613210553a')}\n",
      "\n",
      "{'_id': ObjectId('56d07e9e12b680613210553b'), 'age': 32, 'name': 'Michael', 'grades': [71, 85, 90, 34]}\n",
      "\n"
     ]
    }
   ],
   "source": [
    "for doc in coll.find():\n",
    "    print(doc)\n",
    "    print()"
   ]
  },
  {
   "cell_type": "markdown",
   "metadata": {},
   "source": [
    "Notice how MongoDB added an \"\\_id\" for the new document, as well.\n",
    "Let's insert more documents."
   ]
  },
  {
   "cell_type": "code",
   "execution_count": 13,
   "metadata": {
    "collapsed": false
   },
   "outputs": [
    {
     "data": {
      "text/plain": [
       "<pymongo.results.InsertManyResult at 0x104baf8b8>"
      ]
     },
     "execution_count": 13,
     "metadata": {},
     "output_type": "execute_result"
    }
   ],
   "source": [
    "coll.insert_many([example_2, example_3])"
   ]
  },
  {
   "cell_type": "code",
   "execution_count": 14,
   "metadata": {
    "collapsed": false
   },
   "outputs": [
    {
     "name": "stdout",
     "output_type": "stream",
     "text": [
      "{'_id': ObjectId('56d07e9e12b680613210553a')}\n",
      "\n",
      "{'_id': ObjectId('56d07e9e12b680613210553b'), 'age': 32, 'name': 'Michael', 'grades': [71, 85, 90, 34]}\n",
      "\n",
      "{'_id': ObjectId('56d07e9f12b680613210553c'), 'last name': 'Mathioudakis', 'age': 32, 'first name': 'Michael', 'grades': {'Machine Learning': 95, 'Data Mining': 71, 'ModernDB': 69}, 'graduated': True, 'previous schools': ['NTUA', 'UofT']}\n",
      "\n",
      "{'start': datetime.datetime(2016, 1, 12, 0, 0), '_id': ObjectId('56d07e9f12b680613210553d'), 'name': 'Modern Database Systems', 'tags': ['rdbms', 'mongodb', 'spark'], 'end': datetime.datetime(2016, 3, 26, 0, 0)}\n",
      "\n"
     ]
    }
   ],
   "source": [
    "for doc in coll.find():\n",
    "    print(doc)\n",
    "    print()"
   ]
  },
  {
   "cell_type": "markdown",
   "metadata": {},
   "source": [
    "Notice how the document we insert do not follow a schema?\n",
    "\n",
    "Let us now find documents that match a condition -- let's say we want to find documents that have a field \"name\" with value \"Michael\"."
   ]
  },
  {
   "cell_type": "code",
   "execution_count": 15,
   "metadata": {
    "collapsed": false
   },
   "outputs": [
    {
     "name": "stdout",
     "output_type": "stream",
     "text": [
      "{'_id': ObjectId('56d07e9e12b680613210553b'), 'age': 32, 'name': 'Michael', 'grades': [71, 85, 90, 34]}\n"
     ]
    }
   ],
   "source": [
    "query_result = coll.find({\"name\": \"Michael\"})\n",
    "for doc in query_result:\n",
    "    print(doc)"
   ]
  },
  {
   "cell_type": "markdown",
   "metadata": {},
   "source": [
    "#### Projecting fields\n",
    "\n",
    "We can use **find()** not only to retrieve documents that match a condition, but also to project only those fields that we are interested in. \n",
    "\n",
    "For example, to suppress the \"\\_id\" field from appearing in the results, we can provide a second argument to __find()__, as follows."
   ]
  },
  {
   "cell_type": "code",
   "execution_count": 16,
   "metadata": {
    "collapsed": false
   },
   "outputs": [
    {
     "name": "stdout",
     "output_type": "stream",
     "text": [
      "{'age': 32, 'name': 'Michael', 'grades': [71, 85, 90, 34]}\n"
     ]
    }
   ],
   "source": [
    "query_result = coll.find({\"name\": \"Michael\"}, {\"_id\": 0})\n",
    "for doc in query_result:\n",
    "    print(doc)"
   ]
  },
  {
   "cell_type": "markdown",
   "metadata": {},
   "source": [
    "What if we're interested in keeping only some of the rest of the fields -- let's say, only \"grades\"?"
   ]
  },
  {
   "cell_type": "code",
   "execution_count": 17,
   "metadata": {
    "collapsed": false
   },
   "outputs": [
    {
     "name": "stdout",
     "output_type": "stream",
     "text": [
      "{'grades': [71, 85, 90, 34]}\n"
     ]
    }
   ],
   "source": [
    "query_result = coll.find({\"name\": \"Michael\"}, {\"_id\": 0, \"grades\": 1})\n",
    "for doc in query_result:\n",
    "    print(doc)"
   ]
  },
  {
   "cell_type": "markdown",
   "metadata": {},
   "source": [
    "## Loading a larger dataset\n",
    "\n",
    "Download file [dataset.json](https://raw.githubusercontent.com/mongodb/docs-assets/primer-dataset/dataset.json) and load it into mongodb by running the command below."
   ]
  },
  {
   "cell_type": "code",
   "execution_count": 19,
   "metadata": {
    "collapsed": false
   },
   "outputs": [
    {
     "name": "stderr",
     "output_type": "stream",
     "text": [
      "2016-02-26T18:35:15.679+0200\tconnected to: localhost\n",
      "2016-02-26T18:35:15.680+0200\tdropping: moderndb.restaurants\n",
      "2016-02-26T18:35:16.871+0200\timported 25359 documents\n"
     ]
    }
   ],
   "source": [
    "%%bash\n",
    "mongoimport --db moderndb --collection restaurants --drop --file dataset.json"
   ]
  },
  {
   "cell_type": "markdown",
   "metadata": {},
   "source": [
    "Alternatively, you can import the dataset by running the same command on a terminal.\n",
    "> mongoimport --db moderndb --collection restaurants --drop --file dataset.json"
   ]
  },
  {
   "cell_type": "markdown",
   "metadata": {},
   "source": [
    "The dataset contains documents that look like the one below.\n",
    "\n",
    "** Restaurant Example **\n",
    "\n",
    "```\n",
    "{\n",
    "  \"address\": {\n",
    "     \"building\": \"1007\",\n",
    "     \"coord\": [ -73.856077, 40.848447 ],\n",
    "     \"street\": \"Morris Park Ave\",\n",
    "     \"zipcode\": \"10462\"\n",
    "  },\n",
    "  \"borough\": \"Bronx\",\n",
    "  \"cuisine\": \"Bakery\",\n",
    "  \"grades\": [\n",
    "     { \"date\": { \"$date\": 1393804800000 }, \"grade\": \"A\", \"score\": 2 },\n",
    "     { \"date\": { \"$date\": 1378857600000 }, \"grade\": \"A\", \"score\": 6 },\n",
    "     { \"date\": { \"$date\": 1358985600000 }, \"grade\": \"A\", \"score\": 10 },\n",
    "     { \"date\": { \"$date\": 1322006400000 }, \"grade\": \"A\", \"score\": 9 },\n",
    "     { \"date\": { \"$date\": 1299715200000 }, \"grade\": \"B\", \"score\": 14 }\n",
    "  ],\n",
    "  \"name\": \"Morris Park Bake Shop\",\n",
    "  \"restaurant_id\": \"30075445\"\n",
    "}\n",
    "```"
   ]
  },
  {
   "cell_type": "code",
   "execution_count": 20,
   "metadata": {
    "collapsed": true
   },
   "outputs": [],
   "source": [
    "restaurants = db.restaurants # our new collection"
   ]
  },
  {
   "cell_type": "code",
   "execution_count": 21,
   "metadata": {
    "collapsed": false
   },
   "outputs": [
    {
     "data": {
      "text/plain": [
       "25359"
      ]
     },
     "execution_count": 21,
     "metadata": {},
     "output_type": "execute_result"
    }
   ],
   "source": [
    "# how many restaurants?\n",
    "restaurants.count()"
   ]
  },
  {
   "cell_type": "markdown",
   "metadata": {},
   "source": [
    "## Querying the Dataset"
   ]
  },
  {
   "cell_type": "code",
   "execution_count": 22,
   "metadata": {
    "collapsed": true
   },
   "outputs": [],
   "source": [
    "# retrieve a cursor over all documents in the collection\n",
    "cursor = restaurants.find()"
   ]
  },
  {
   "cell_type": "code",
   "execution_count": 23,
   "metadata": {
    "collapsed": true
   },
   "outputs": [],
   "source": [
    "# define printing function\n",
    "def print_my_docs(cursor, num):\n",
    "    for i in range(num): # print only up to num next documents from cursor\n",
    "        try:\n",
    "            print(next(cursor))\n",
    "            print()\n",
    "        except:\n",
    "            break"
   ]
  },
  {
   "cell_type": "code",
   "execution_count": 24,
   "metadata": {
    "collapsed": false
   },
   "outputs": [
    {
     "name": "stdout",
     "output_type": "stream",
     "text": [
      "{'_id': ObjectId('56d07ec4bda572c67c0a1b60'), 'name': \"Wendy'S\", 'grades': [{'score': 8, 'grade': 'A', 'date': datetime.datetime(2014, 12, 30, 0, 0)}, {'score': 23, 'grade': 'B', 'date': datetime.datetime(2014, 7, 1, 0, 0)}, {'score': 12, 'grade': 'A', 'date': datetime.datetime(2013, 4, 30, 0, 0)}, {'score': 12, 'grade': 'A', 'date': datetime.datetime(2012, 5, 8, 0, 0)}], 'restaurant_id': '30112340', 'address': {'coord': [-73.961704, 40.662942], 'street': 'Flatbush Avenue', 'zipcode': '11225', 'building': '469'}, 'cuisine': 'Hamburgers', 'borough': 'Brooklyn'}\n",
      "\n",
      "{'_id': ObjectId('56d07ec4bda572c67c0a1b61'), 'name': 'Morris Park Bake Shop', 'grades': [{'score': 2, 'grade': 'A', 'date': datetime.datetime(2014, 3, 3, 0, 0)}, {'score': 6, 'grade': 'A', 'date': datetime.datetime(2013, 9, 11, 0, 0)}, {'score': 10, 'grade': 'A', 'date': datetime.datetime(2013, 1, 24, 0, 0)}, {'score': 9, 'grade': 'A', 'date': datetime.datetime(2011, 11, 23, 0, 0)}, {'score': 14, 'grade': 'B', 'date': datetime.datetime(2011, 3, 10, 0, 0)}], 'restaurant_id': '30075445', 'address': {'coord': [-73.856077, 40.848447], 'street': 'Morris Park Ave', 'zipcode': '10462', 'building': '1007'}, 'cuisine': 'Bakery', 'borough': 'Bronx'}\n",
      "\n",
      "{'_id': ObjectId('56d07ec4bda572c67c0a1b62'), 'name': 'Brunos On The Boulevard', 'grades': [{'score': 38, 'grade': 'Z', 'date': datetime.datetime(2014, 11, 15, 0, 0)}, {'score': 10, 'grade': 'A', 'date': datetime.datetime(2014, 5, 2, 0, 0)}, {'score': 7, 'grade': 'A', 'date': datetime.datetime(2013, 3, 2, 0, 0)}, {'score': 13, 'grade': 'A', 'date': datetime.datetime(2012, 2, 10, 0, 0)}], 'restaurant_id': '40356151', 'address': {'coord': [-73.8803827, 40.7643124], 'street': 'Astoria Boulevard', 'zipcode': '11369', 'building': '8825'}, 'cuisine': 'American ', 'borough': 'Queens'}\n",
      "\n"
     ]
    }
   ],
   "source": [
    "# let's print a few documents\n",
    "print_my_docs(cursor, 3)"
   ]
  },
  {
   "cell_type": "code",
   "execution_count": 25,
   "metadata": {
    "collapsed": false
   },
   "outputs": [
    {
     "data": {
      "text/plain": [
       "{'_id': ObjectId('56d07ec4bda572c67c0a1b63'),\n",
       " 'address': {'building': '97-22',\n",
       "  'coord': [-73.8601152, 40.7311739],\n",
       "  'street': '63 Road',\n",
       "  'zipcode': '11374'},\n",
       " 'borough': 'Queens',\n",
       " 'cuisine': 'Jewish/Kosher',\n",
       " 'grades': [{'date': datetime.datetime(2014, 11, 24, 0, 0),\n",
       "   'grade': 'Z',\n",
       "   'score': 20},\n",
       "  {'date': datetime.datetime(2013, 1, 17, 0, 0), 'grade': 'A', 'score': 13},\n",
       "  {'date': datetime.datetime(2012, 8, 2, 0, 0), 'grade': 'A', 'score': 13},\n",
       "  {'date': datetime.datetime(2011, 12, 15, 0, 0), 'grade': 'B', 'score': 25}],\n",
       " 'name': 'Tov Kosher Kitchen',\n",
       " 'restaurant_id': '40356068'}"
      ]
     },
     "execution_count": 25,
     "metadata": {},
     "output_type": "execute_result"
    }
   ],
   "source": [
    "next(cursor) # get one more document"
   ]
  },
  {
   "cell_type": "markdown",
   "metadata": {},
   "source": [
    "### Specify equality conditions"
   ]
  },
  {
   "cell_type": "code",
   "execution_count": 26,
   "metadata": {
    "collapsed": false
   },
   "outputs": [
    {
     "name": "stdout",
     "output_type": "stream",
     "text": [
      "{'_id': ObjectId('56d07ec4bda572c67c0a1b6b'), 'name': '1 East 66Th Street Kitchen', 'grades': [{'score': 3, 'grade': 'A', 'date': datetime.datetime(2014, 5, 7, 0, 0)}, {'score': 4, 'grade': 'A', 'date': datetime.datetime(2013, 5, 3, 0, 0)}, {'score': 6, 'grade': 'A', 'date': datetime.datetime(2012, 4, 30, 0, 0)}, {'score': 0, 'grade': 'A', 'date': datetime.datetime(2011, 12, 27, 0, 0)}], 'restaurant_id': '40359480', 'address': {'coord': [-73.96926909999999, 40.7685235], 'street': 'East   66 Street', 'zipcode': '10065', 'building': '1'}, 'cuisine': 'American ', 'borough': 'Manhattan'}\n",
      "\n",
      "{'_id': ObjectId('56d07ec4bda572c67c0a1b70'), 'name': 'Glorious Food', 'grades': [{'score': 12, 'grade': 'A', 'date': datetime.datetime(2014, 9, 2, 0, 0)}, {'score': 16, 'grade': 'B', 'date': datetime.datetime(2013, 12, 19, 0, 0)}, {'score': 9, 'grade': 'A', 'date': datetime.datetime(2013, 5, 28, 0, 0)}, {'score': 13, 'grade': 'A', 'date': datetime.datetime(2012, 12, 7, 0, 0)}, {'score': 11, 'grade': 'A', 'date': datetime.datetime(2012, 3, 29, 0, 0)}], 'restaurant_id': '40361521', 'address': {'coord': [-73.95171, 40.767461], 'street': 'East   74 Street', 'zipcode': '10021', 'building': '522'}, 'cuisine': 'American ', 'borough': 'Manhattan'}\n",
      "\n"
     ]
    }
   ],
   "source": [
    "# top-level field\n",
    "cursor = restaurants.find({\"borough\": \"Manhattan\"})\n",
    "\n",
    "print_my_docs(cursor, 2)"
   ]
  },
  {
   "cell_type": "code",
   "execution_count": 27,
   "metadata": {
    "collapsed": false
   },
   "outputs": [
    {
     "name": "stdout",
     "output_type": "stream",
     "text": [
      "{'_id': ObjectId('56d07ec4bda572c67c0a1c77'), 'name': 'Viand Cafe', 'grades': [{'score': 10, 'grade': 'A', 'date': datetime.datetime(2014, 5, 2, 0, 0)}, {'score': 15, 'grade': 'B', 'date': datetime.datetime(2013, 10, 21, 0, 0)}, {'score': 0, 'grade': 'B', 'date': datetime.datetime(2013, 4, 19, 0, 0)}, {'score': 40, 'grade': 'C', 'date': datetime.datetime(2012, 11, 21, 0, 0)}, {'score': 17, 'grade': 'B', 'date': datetime.datetime(2012, 4, 9, 0, 0)}], 'restaurant_id': '40369753', 'address': {'coord': [-73.9623333, 40.7757194], 'street': 'Madison Avenue', 'zipcode': '10075', 'building': '1011'}, 'cuisine': 'American ', 'borough': 'Manhattan'}\n",
      "\n",
      "{'_id': ObjectId('56d07ec4bda572c67c0a1c78'), 'name': 'Nectar Coffee Shop', 'grades': [{'score': 5, 'grade': 'A', 'date': datetime.datetime(2014, 2, 20, 0, 0)}, {'score': 7, 'grade': 'A', 'date': datetime.datetime(2013, 8, 15, 0, 0)}, {'score': 11, 'grade': 'A', 'date': datetime.datetime(2013, 3, 8, 0, 0)}, {'score': 16, 'grade': 'B', 'date': datetime.datetime(2012, 6, 20, 0, 0)}, {'score': 13, 'grade': 'A', 'date': datetime.datetime(2011, 12, 8, 0, 0)}, {'score': 9, 'grade': 'A', 'date': datetime.datetime(2011, 7, 28, 0, 0)}, {'score': 12, 'grade': 'A', 'date': datetime.datetime(2011, 2, 24, 0, 0)}], 'restaurant_id': '40369759', 'address': {'coord': [-73.9624221, 40.77620840000001], 'street': 'Madison Avenue', 'zipcode': '10075', 'building': '1022'}, 'cuisine': 'American ', 'borough': 'Manhattan'}\n",
      "\n"
     ]
    }
   ],
   "source": [
    "# nested field (in embedded document)\n",
    "cursor = restaurants.find({\"address.zipcode\": \"10075\"})\n",
    "\n",
    "print_my_docs(cursor, 2)"
   ]
  },
  {
   "cell_type": "code",
   "execution_count": 28,
   "metadata": {
    "collapsed": true
   },
   "outputs": [],
   "source": [
    "# query by field in array\n",
    "cursor = restaurants.find({\"grades.grade\": \"B\"})"
   ]
  },
  {
   "cell_type": "code",
   "execution_count": 29,
   "metadata": {
    "collapsed": false
   },
   "outputs": [
    {
     "data": {
      "text/plain": [
       "[{'date': datetime.datetime(2014, 12, 30, 0, 0), 'grade': 'A', 'score': 8},\n",
       " {'date': datetime.datetime(2014, 7, 1, 0, 0), 'grade': 'B', 'score': 23},\n",
       " {'date': datetime.datetime(2013, 4, 30, 0, 0), 'grade': 'A', 'score': 12},\n",
       " {'date': datetime.datetime(2012, 5, 8, 0, 0), 'grade': 'A', 'score': 12}]"
      ]
     },
     "execution_count": 29,
     "metadata": {},
     "output_type": "execute_result"
    }
   ],
   "source": [
    "# print one document from the query result\n",
    "next(cursor)['grades']"
   ]
  },
  {
   "cell_type": "code",
   "execution_count": 30,
   "metadata": {
    "collapsed": true
   },
   "outputs": [],
   "source": [
    "# exact array match\n",
    "cursor = restaurants.find({\"address.coord\": [-73.98513559999999, 40.7676919]})"
   ]
  },
  {
   "cell_type": "code",
   "execution_count": 31,
   "metadata": {
    "collapsed": false
   },
   "outputs": [
    {
     "name": "stdout",
     "output_type": "stream",
     "text": [
      "{'_id': ObjectId('56d07ec4bda572c67c0a1ba1'), 'name': 'Dj Reynolds Pub And Restaurant', 'grades': [{'score': 2, 'grade': 'A', 'date': datetime.datetime(2014, 9, 6, 0, 0)}, {'score': 11, 'grade': 'A', 'date': datetime.datetime(2013, 7, 22, 0, 0)}, {'score': 12, 'grade': 'A', 'date': datetime.datetime(2012, 7, 31, 0, 0)}, {'score': 12, 'grade': 'A', 'date': datetime.datetime(2011, 12, 29, 0, 0)}], 'restaurant_id': '30191841', 'address': {'coord': [-73.98513559999999, 40.7676919], 'street': 'West   57 Street', 'zipcode': '10019', 'building': '351'}, 'cuisine': 'Irish', 'borough': 'Manhattan'}\n",
      "\n"
     ]
    }
   ],
   "source": [
    "print_my_docs(cursor, 10)"
   ]
  },
  {
   "cell_type": "code",
   "execution_count": null,
   "metadata": {
    "collapsed": true
   },
   "outputs": [],
   "source": []
  },
  {
   "cell_type": "markdown",
   "metadata": {},
   "source": [
    "### Specify Range Conditions"
   ]
  },
  {
   "cell_type": "code",
   "execution_count": 32,
   "metadata": {
    "collapsed": true
   },
   "outputs": [],
   "source": [
    "cursor = restaurants.find({\"grades.score\": {\"$gt\": 30}})"
   ]
  },
  {
   "cell_type": "code",
   "execution_count": 33,
   "metadata": {
    "collapsed": true
   },
   "outputs": [],
   "source": [
    "cursor = restaurants.find({\"grades.score\": {\"$lt\": 10}})"
   ]
  },
  {
   "cell_type": "code",
   "execution_count": 34,
   "metadata": {
    "collapsed": false
   },
   "outputs": [
    {
     "data": {
      "text/plain": [
       "[{'date': datetime.datetime(2014, 12, 30, 0, 0), 'grade': 'A', 'score': 8},\n",
       " {'date': datetime.datetime(2014, 7, 1, 0, 0), 'grade': 'B', 'score': 23},\n",
       " {'date': datetime.datetime(2013, 4, 30, 0, 0), 'grade': 'A', 'score': 12},\n",
       " {'date': datetime.datetime(2012, 5, 8, 0, 0), 'grade': 'A', 'score': 12}]"
      ]
     },
     "execution_count": 34,
     "metadata": {},
     "output_type": "execute_result"
    }
   ],
   "source": [
    "next(cursor)[\"grades\"]"
   ]
  },
  {
   "cell_type": "markdown",
   "metadata": {},
   "source": [
    "### Multiple Conditions"
   ]
  },
  {
   "cell_type": "code",
   "execution_count": 35,
   "metadata": {
    "collapsed": true
   },
   "outputs": [],
   "source": [
    "# logical AND\n",
    "cursor = restaurants.find({\"cuisine\": \"Italian\", \"address.zipcode\": \"10075\"})"
   ]
  },
  {
   "cell_type": "code",
   "execution_count": 36,
   "metadata": {
    "collapsed": false
   },
   "outputs": [
    {
     "data": {
      "text/plain": [
       "{'_id': ObjectId('56d07ec4bda572c67c0a1cba'),\n",
       " 'address': {'building': '1133',\n",
       "  'coord': [-73.958885, 40.7745559],\n",
       "  'street': 'Lexington Avenue',\n",
       "  'zipcode': '10075'},\n",
       " 'borough': 'Manhattan',\n",
       " 'cuisine': 'Italian',\n",
       " 'grades': [{'date': datetime.datetime(2014, 8, 11, 0, 0),\n",
       "   'grade': 'A',\n",
       "   'score': 11},\n",
       "  {'date': datetime.datetime(2013, 12, 10, 0, 0), 'grade': 'A', 'score': 9},\n",
       "  {'date': datetime.datetime(2013, 6, 10, 0, 0), 'grade': 'A', 'score': 12},\n",
       "  {'date': datetime.datetime(2012, 6, 8, 0, 0), 'grade': 'A', 'score': 13},\n",
       "  {'date': datetime.datetime(2012, 1, 25, 0, 0), 'grade': 'A', 'score': 8},\n",
       "  {'date': datetime.datetime(2011, 9, 13, 0, 0), 'grade': 'A', 'score': 12}],\n",
       " 'name': 'Don Filippo Restaurant',\n",
       " 'restaurant_id': '40372417'}"
      ]
     },
     "execution_count": 36,
     "metadata": {},
     "output_type": "execute_result"
    }
   ],
   "source": [
    "next(cursor)"
   ]
  },
  {
   "cell_type": "code",
   "execution_count": 37,
   "metadata": {
    "collapsed": true
   },
   "outputs": [],
   "source": [
    "# logical OR\n",
    "cursor = restaurants.find({\"$or\": [{\"cuisine\": \"Italian\"},\n",
    "                                          {\"address.zipcode\": \"10075\"}]})"
   ]
  },
  {
   "cell_type": "code",
   "execution_count": 38,
   "metadata": {
    "collapsed": false
   },
   "outputs": [
    {
     "name": "stdout",
     "output_type": "stream",
     "text": [
      "{'_id': ObjectId('56d07ec4bda572c67c0a1b96'), 'name': 'Philadelhia Grille Express', 'grades': [{'score': 12, 'grade': 'A', 'date': datetime.datetime(2014, 2, 25, 0, 0)}, {'score': 7, 'grade': 'A', 'date': datetime.datetime(2013, 6, 27, 0, 0)}, {'score': 10, 'grade': 'A', 'date': datetime.datetime(2012, 12, 3, 0, 0)}, {'score': 12, 'grade': 'A', 'date': datetime.datetime(2011, 11, 9, 0, 0)}], 'restaurant_id': '40364305', 'address': {'coord': [-74.03400479999999, 40.6127077], 'street': '4 Avenue', 'zipcode': '11209', 'building': '10004'}, 'cuisine': 'Italian', 'borough': 'Brooklyn'}\n",
      "\n",
      "{'_id': ObjectId('56d07ec4bda572c67c0a1b9d'), 'name': 'Isle Of Capri Resturant', 'grades': [{'score': 13, 'grade': 'A', 'date': datetime.datetime(2014, 9, 16, 0, 0)}, {'score': 10, 'grade': 'A', 'date': datetime.datetime(2014, 2, 24, 0, 0)}, {'score': 10, 'grade': 'A', 'date': datetime.datetime(2013, 5, 3, 0, 0)}, {'score': 7, 'grade': 'A', 'date': datetime.datetime(2012, 8, 20, 0, 0)}, {'score': 9, 'grade': 'A', 'date': datetime.datetime(2012, 2, 13, 0, 0)}], 'restaurant_id': '40364373', 'address': {'coord': [-73.966032, 40.762832], 'street': '3 Avenue', 'zipcode': '10065', 'building': '1028'}, 'cuisine': 'Italian', 'borough': 'Manhattan'}\n",
      "\n",
      "{'_id': ObjectId('56d07ec4bda572c67c0a1bac'), 'name': 'Marchis Restaurant', 'grades': [{'score': 13, 'grade': 'A', 'date': datetime.datetime(2014, 4, 22, 0, 0)}, {'score': 32, 'grade': 'C', 'date': datetime.datetime(2013, 6, 19, 0, 0)}, {'score': 12, 'grade': 'A', 'date': datetime.datetime(2012, 5, 22, 0, 0)}], 'restaurant_id': '40364668', 'address': {'coord': [-73.9775552, 40.7432016], 'street': 'East   31 Street', 'zipcode': '10016', 'building': '251'}, 'cuisine': 'Italian', 'borough': 'Manhattan'}\n",
      "\n"
     ]
    }
   ],
   "source": [
    "print_my_docs(cursor, 3)"
   ]
  },
  {
   "cell_type": "code",
   "execution_count": 39,
   "metadata": {
    "collapsed": true
   },
   "outputs": [],
   "source": [
    "# logical AND, differently\n",
    "cursor = restaurants.find({\"$and\": [{\"cuisine\": \"Italian\"},\n",
    "                                          {\"address.zipcode\": \"10075\"}]})"
   ]
  },
  {
   "cell_type": "code",
   "execution_count": 40,
   "metadata": {
    "collapsed": false
   },
   "outputs": [
    {
     "data": {
      "text/plain": [
       "{'_id': ObjectId('56d07ec4bda572c67c0a1cba'),\n",
       " 'address': {'building': '1133',\n",
       "  'coord': [-73.958885, 40.7745559],\n",
       "  'street': 'Lexington Avenue',\n",
       "  'zipcode': '10075'},\n",
       " 'borough': 'Manhattan',\n",
       " 'cuisine': 'Italian',\n",
       " 'grades': [{'date': datetime.datetime(2014, 8, 11, 0, 0),\n",
       "   'grade': 'A',\n",
       "   'score': 11},\n",
       "  {'date': datetime.datetime(2013, 12, 10, 0, 0), 'grade': 'A', 'score': 9},\n",
       "  {'date': datetime.datetime(2013, 6, 10, 0, 0), 'grade': 'A', 'score': 12},\n",
       "  {'date': datetime.datetime(2012, 6, 8, 0, 0), 'grade': 'A', 'score': 13},\n",
       "  {'date': datetime.datetime(2012, 1, 25, 0, 0), 'grade': 'A', 'score': 8},\n",
       "  {'date': datetime.datetime(2011, 9, 13, 0, 0), 'grade': 'A', 'score': 12}],\n",
       " 'name': 'Don Filippo Restaurant',\n",
       " 'restaurant_id': '40372417'}"
      ]
     },
     "execution_count": 40,
     "metadata": {},
     "output_type": "execute_result"
    }
   ],
   "source": [
    "next(cursor)"
   ]
  },
  {
   "cell_type": "markdown",
   "metadata": {},
   "source": [
    "## Sorting"
   ]
  },
  {
   "cell_type": "code",
   "execution_count": 41,
   "metadata": {
    "collapsed": false
   },
   "outputs": [],
   "source": [
    "cursor = restaurants.find()\n",
    "\n",
    "# to sort, specify list of sorting criteria,\n",
    "# each criterion given as a tuple\n",
    "# (field_name, sort_order)\n",
    "# here we have only one\n",
    "sorted_cursor = cursor.sort([(\"borough\", pm.ASCENDING)]) "
   ]
  },
  {
   "cell_type": "code",
   "execution_count": 42,
   "metadata": {
    "collapsed": false
   },
   "outputs": [
    {
     "name": "stdout",
     "output_type": "stream",
     "text": [
      "{'_id': ObjectId('56d07ec4bda572c67c0a1b61'), 'name': 'Morris Park Bake Shop', 'grades': [{'score': 2, 'grade': 'A', 'date': datetime.datetime(2014, 3, 3, 0, 0)}, {'score': 6, 'grade': 'A', 'date': datetime.datetime(2013, 9, 11, 0, 0)}, {'score': 10, 'grade': 'A', 'date': datetime.datetime(2013, 1, 24, 0, 0)}, {'score': 9, 'grade': 'A', 'date': datetime.datetime(2011, 11, 23, 0, 0)}, {'score': 14, 'grade': 'B', 'date': datetime.datetime(2011, 3, 10, 0, 0)}], 'restaurant_id': '30075445', 'address': {'coord': [-73.856077, 40.848447], 'street': 'Morris Park Ave', 'zipcode': '10462', 'building': '1007'}, 'cuisine': 'Bakery', 'borough': 'Bronx'}\n",
      "\n",
      "{'_id': ObjectId('56d07ec4bda572c67c0a1b68'), 'name': 'Wild Asia', 'grades': [{'score': 11, 'grade': 'A', 'date': datetime.datetime(2014, 5, 28, 0, 0)}, {'score': 4, 'grade': 'A', 'date': datetime.datetime(2013, 6, 19, 0, 0)}, {'score': 3, 'grade': 'A', 'date': datetime.datetime(2012, 6, 15, 0, 0)}], 'restaurant_id': '40357217', 'address': {'coord': [-73.8786113, 40.8502883], 'street': 'Southern Boulevard', 'zipcode': '10460', 'building': '2300'}, 'cuisine': 'American ', 'borough': 'Bronx'}\n",
      "\n"
     ]
    }
   ],
   "source": [
    "print_my_docs(cursor, 2)"
   ]
  },
  {
   "cell_type": "code",
   "execution_count": 43,
   "metadata": {
    "collapsed": false
   },
   "outputs": [],
   "source": [
    "another_sorted_cursor = restaurants.find().sort([(\"borough\", pm.ASCENDING),\n",
    "                                     (\"address.zipcode\", pm.DESCENDING)])"
   ]
  },
  {
   "cell_type": "code",
   "execution_count": 44,
   "metadata": {
    "collapsed": false
   },
   "outputs": [
    {
     "name": "stdout",
     "output_type": "stream",
     "text": [
      "{'_id': ObjectId('56d07ec4bda572c67c0a2990'), 'name': 'Carvel', 'grades': [{'score': 4, 'grade': 'A', 'date': datetime.datetime(2014, 2, 20, 0, 0)}, {'score': 6, 'grade': 'A', 'date': datetime.datetime(2013, 2, 4, 0, 0)}, {'score': 9, 'grade': 'A', 'date': datetime.datetime(2012, 1, 25, 0, 0)}, {'score': 12, 'grade': 'A', 'date': datetime.datetime(2011, 8, 17, 0, 0)}, {'score': 3, 'grade': 'P', 'date': datetime.datetime(2011, 5, 26, 0, 0)}], 'restaurant_id': '40876932', 'address': {'coord': [-73.89208789999999, 40.760344], 'street': '31 Avenue', 'zipcode': '11370', 'building': '7565'}, 'cuisine': 'Ice Cream, Gelato, Yogurt, Ices', 'borough': 'Bronx'}\n",
      "\n",
      "{'_id': ObjectId('56d07ec4bda572c67c0a56b5'), 'name': \"Antonio'S\", 'grades': [{'score': 32, 'grade': 'C', 'date': datetime.datetime(2014, 10, 1, 0, 0)}, {'score': 18, 'grade': 'B', 'date': datetime.datetime(2014, 3, 13, 0, 0)}, {'score': 9, 'grade': 'A', 'date': datetime.datetime(2013, 5, 21, 0, 0)}, {'score': 12, 'grade': 'A', 'date': datetime.datetime(2012, 11, 27, 0, 0)}, {'score': 2, 'grade': 'A', 'date': datetime.datetime(2012, 2, 27, 0, 0)}], 'restaurant_id': '41636621', 'address': {'coord': [-121.4158208, 38.5319584], 'street': '21St Ave', 'zipcode': '11370', 'building': '7608'}, 'cuisine': 'Italian', 'borough': 'Bronx'}\n",
      "\n",
      "{'_id': ObjectId('56d07ec4bda572c67c0a1c05'), 'name': 'Ihop', 'grades': [{'score': 11, 'grade': 'A', 'date': datetime.datetime(2014, 9, 22, 0, 0)}, {'score': 9, 'grade': 'A', 'date': datetime.datetime(2014, 5, 16, 0, 0)}, {'score': 3, 'grade': 'A', 'date': datetime.datetime(2013, 10, 30, 0, 0)}, {'score': 24, 'grade': 'B', 'date': datetime.datetime(2013, 6, 5, 0, 0)}, {'score': 13, 'grade': 'A', 'date': datetime.datetime(2012, 5, 14, 0, 0)}, {'score': 7, 'grade': 'A', 'date': datetime.datetime(2012, 1, 4, 0, 0)}], 'restaurant_id': '40366833', 'address': {'coord': [-73.8194559, 40.8899176], 'street': 'Boston Road', 'zipcode': '10475', 'building': '4340'}, 'cuisine': 'Pancakes/Waffles', 'borough': 'Bronx'}\n",
      "\n"
     ]
    }
   ],
   "source": [
    "print_my_docs(another_sorted_cursor, 3)"
   ]
  },
  {
   "cell_type": "markdown",
   "metadata": {},
   "source": [
    "## Aggregation\n",
    "\n",
    "Aggregation happens in stages."
   ]
  },
  {
   "cell_type": "code",
   "execution_count": 45,
   "metadata": {
    "collapsed": true
   },
   "outputs": [],
   "source": [
    "# Group Documents by a Field and Calculate Count\n",
    "cursor = restaurants.aggregate(\n",
    "    [\n",
    "        {\"$group\": {\"_id\": \"$borough\", \"count\": {\"$sum\": 1}}}\n",
    "    ]\n",
    ")"
   ]
  },
  {
   "cell_type": "code",
   "execution_count": 46,
   "metadata": {
    "collapsed": false
   },
   "outputs": [
    {
     "name": "stdout",
     "output_type": "stream",
     "text": [
      "{'_id': 'Missing', 'count': 51}\n",
      "\n",
      "{'_id': 'Manhattan', 'count': 10259}\n",
      "\n",
      "{'_id': 'Staten Island', 'count': 969}\n",
      "\n",
      "{'_id': 'Bronx', 'count': 2338}\n",
      "\n",
      "{'_id': 'Queens', 'count': 5656}\n",
      "\n",
      "{'_id': 'Brooklyn', 'count': 6086}\n",
      "\n"
     ]
    }
   ],
   "source": [
    "print_my_docs(cursor, 10)"
   ]
  },
  {
   "cell_type": "code",
   "execution_count": 47,
   "metadata": {
    "collapsed": true
   },
   "outputs": [],
   "source": [
    "# Filter and Group Documents\n",
    "cursor = restaurants.aggregate(\n",
    "    [\n",
    "        {\"$match\": {\"borough\": \"Queens\", \"cuisine\": \"Brazilian\"}},\n",
    "        {\"$group\": {\"_id\": \"$address.zipcode\", \"count\": {\"$sum\": 1}}}\n",
    "    ]\n",
    ")"
   ]
  },
  {
   "cell_type": "code",
   "execution_count": 48,
   "metadata": {
    "collapsed": false
   },
   "outputs": [
    {
     "name": "stdout",
     "output_type": "stream",
     "text": [
      "{'_id': '11377', 'count': 1}\n",
      "\n",
      "{'_id': '11101', 'count': 2}\n",
      "\n",
      "{'_id': '11368', 'count': 1}\n",
      "\n",
      "{'_id': '11106', 'count': 3}\n",
      "\n",
      "{'_id': '11103', 'count': 1}\n",
      "\n"
     ]
    }
   ],
   "source": [
    "print_my_docs(cursor, 10)"
   ]
  },
  {
   "cell_type": "code",
   "execution_count": 49,
   "metadata": {
    "collapsed": false
   },
   "outputs": [],
   "source": [
    "# Filter and Group and then Filter Again documents\n",
    "cursor = restaurants.aggregate(\n",
    "    [\n",
    "        {\"$match\": {\"borough\": \"Manhattan\", \"cuisine\": \"American \"}},\n",
    "        {\"$group\": {\"_id\": \"$address.zipcode\", \"count\": {\"$sum\": 1}}},\n",
    "        {\"$match\": {\"count\": {\"$gt\": 1}}}\n",
    "    ]\n",
    ")"
   ]
  },
  {
   "cell_type": "code",
   "execution_count": 50,
   "metadata": {
    "collapsed": false
   },
   "outputs": [
    {
     "name": "stdout",
     "output_type": "stream",
     "text": [
      "{'_id': '10463', 'count': 2}\n",
      "\n",
      "{'_id': '10030', 'count': 7}\n",
      "\n",
      "{'_id': '10281', 'count': 7}\n",
      "\n",
      "{'_id': '10121', 'count': 3}\n",
      "\n",
      "{'_id': '10040', 'count': 8}\n",
      "\n",
      "{'_id': '10112', 'count': 7}\n",
      "\n",
      "{'_id': '10044', 'count': 2}\n",
      "\n",
      "{'_id': '10119', 'count': 4}\n",
      "\n",
      "{'_id': '10031', 'count': 19}\n",
      "\n",
      "{'_id': '10280', 'count': 6}\n",
      "\n"
     ]
    }
   ],
   "source": [
    "print_my_docs(cursor, 10)"
   ]
  },
  {
   "cell_type": "code",
   "execution_count": 51,
   "metadata": {
    "collapsed": false
   },
   "outputs": [],
   "source": [
    "# Filter and Group and then Filter Again and then Sort Documents\n",
    "cursor = restaurants.aggregate(\n",
    "    [\n",
    "        {\"$match\": {\"borough\": \"Manhattan\", \"cuisine\": \"American \"}},\n",
    "        {\"$group\": {\"_id\": \"$address.zipcode\",  \"count\": {\"$sum\": 1}}},\n",
    "        {\"$match\": {\"count\": {\"$gt\": 1}}},\n",
    "        {\"$sort\":  {\"count\": -1, \"_id\": -1}}\n",
    "    ]\n",
    ")"
   ]
  },
  {
   "cell_type": "code",
   "execution_count": 52,
   "metadata": {
    "collapsed": false
   },
   "outputs": [
    {
     "name": "stdout",
     "output_type": "stream",
     "text": [
      "{'_id': '10019', 'count': 275}\n",
      "\n",
      "{'_id': '10036', 'count': 270}\n",
      "\n",
      "{'_id': '10003', 'count': 190}\n",
      "\n",
      "{'_id': '10022', 'count': 188}\n",
      "\n",
      "{'_id': '10001', 'count': 185}\n",
      "\n",
      "{'_id': '10011', 'count': 153}\n",
      "\n",
      "{'_id': '10014', 'count': 140}\n",
      "\n",
      "{'_id': '10017', 'count': 133}\n",
      "\n",
      "{'_id': '10012', 'count': 130}\n",
      "\n",
      "{'_id': '10018', 'count': 129}\n",
      "\n"
     ]
    }
   ],
   "source": [
    "print_my_docs(cursor, 10)"
   ]
  },
  {
   "cell_type": "code",
   "execution_count": 53,
   "metadata": {
    "collapsed": false
   },
   "outputs": [],
   "source": [
    "# Same but sort by multiple fields\n",
    "# Filter and Group and then Filter Again and then Sort Documents\n",
    "cursor = restaurants.aggregate(\n",
    "    [\n",
    "        {\"$match\": {\"borough\": \"Manhattan\", \"cuisine\": \"American \"}},\n",
    "        {\"$group\": {\"_id\": \"$address.zipcode\",  \"count\": {\"$sum\": 1}}},\n",
    "        {\"$match\": {\"count\": {\"$gt\": 1}}},\n",
    "        {\"$sort\":  son.SON([(\"count\", -1), (\"_id\", 1)])} # order matters!!\n",
    "    ]\n",
    ")"
   ]
  },
  {
   "cell_type": "code",
   "execution_count": 54,
   "metadata": {
    "collapsed": false
   },
   "outputs": [
    {
     "name": "stdout",
     "output_type": "stream",
     "text": [
      "{'_id': '10019', 'count': 275}\n",
      "\n",
      "{'_id': '10036', 'count': 270}\n",
      "\n",
      "{'_id': '10003', 'count': 190}\n",
      "\n",
      "{'_id': '10022', 'count': 188}\n",
      "\n",
      "{'_id': '10001', 'count': 185}\n",
      "\n",
      "{'_id': '10011', 'count': 153}\n",
      "\n",
      "{'_id': '10014', 'count': 140}\n",
      "\n",
      "{'_id': '10017', 'count': 133}\n",
      "\n",
      "{'_id': '10012', 'count': 130}\n",
      "\n",
      "{'_id': '10018', 'count': 129}\n",
      "\n"
     ]
    }
   ],
   "source": [
    "print_my_docs(cursor, 10)"
   ]
  },
  {
   "cell_type": "code",
   "execution_count": 55,
   "metadata": {
    "collapsed": false
   },
   "outputs": [],
   "source": [
    "# what will this do?\n",
    "cursor = restaurants.aggregate(\n",
    "    [\n",
    "        {\"$group\": {\"_id\": None, \"count\": {\"$sum\": 1}} }\n",
    "    ]\n",
    ")"
   ]
  },
  {
   "cell_type": "code",
   "execution_count": 56,
   "metadata": {
    "collapsed": false
   },
   "outputs": [
    {
     "name": "stdout",
     "output_type": "stream",
     "text": [
      "{'_id': None, 'count': 25359}\n",
      "\n"
     ]
    }
   ],
   "source": [
    "print_my_docs(cursor, 10)"
   ]
  },
  {
   "cell_type": "code",
   "execution_count": 57,
   "metadata": {
    "collapsed": true
   },
   "outputs": [],
   "source": [
    "# projection\n",
    "# what will this do?\n",
    "cursor = restaurants.aggregate(\n",
    "    [\n",
    "        {\"$group\": {\"_id\": \"$address.zipcode\", \"count\": {\"$sum\": 1}}},\n",
    "        {\"$project\": {\"_id\": 0, \"count\": 1}}\n",
    "    ]\n",
    ")"
   ]
  },
  {
   "cell_type": "code",
   "execution_count": 58,
   "metadata": {
    "collapsed": false
   },
   "outputs": [
    {
     "name": "stdout",
     "output_type": "stream",
     "text": [
      "{'count': 1}\n",
      "\n",
      "{'count': 1}\n",
      "\n",
      "{'count': 1}\n",
      "\n",
      "{'count': 1}\n",
      "\n",
      "{'count': 2}\n",
      "\n",
      "{'count': 1}\n",
      "\n",
      "{'count': 1}\n",
      "\n",
      "{'count': 2}\n",
      "\n",
      "{'count': 1}\n",
      "\n",
      "{'count': 1}\n",
      "\n"
     ]
    }
   ],
   "source": [
    "print_my_docs(cursor, 10)"
   ]
  },
  {
   "cell_type": "code",
   "execution_count": 59,
   "metadata": {
    "collapsed": true
   },
   "outputs": [],
   "source": [
    "# what will this do?\n",
    "cursor = restaurants.aggregate(\n",
    "    [\n",
    "        {\"$group\": {\"_id\": {\"cuisine\": \"$cuisine\"}, \"count\": {\"$sum\": 1}}},\n",
    "        {\"$sort\": {\"count\": -1}}\n",
    "    ]\n",
    ")"
   ]
  },
  {
   "cell_type": "code",
   "execution_count": 60,
   "metadata": {
    "collapsed": false
   },
   "outputs": [
    {
     "name": "stdout",
     "output_type": "stream",
     "text": [
      "{'_id': {'cuisine': 'American '}, 'count': 6183}\n",
      "\n",
      "{'_id': {'cuisine': 'Chinese'}, 'count': 2418}\n",
      "\n",
      "{'_id': {'cuisine': 'Café/Coffee/Tea'}, 'count': 1214}\n",
      "\n",
      "{'_id': {'cuisine': 'Pizza'}, 'count': 1163}\n",
      "\n",
      "{'_id': {'cuisine': 'Italian'}, 'count': 1069}\n",
      "\n"
     ]
    }
   ],
   "source": [
    "print_my_docs(cursor, 5)"
   ]
  },
  {
   "cell_type": "code",
   "execution_count": 61,
   "metadata": {
    "collapsed": false
   },
   "outputs": [],
   "source": [
    "# what will this do?\n",
    "cursor = restaurants.aggregate(\n",
    "    [\n",
    "        {\"$group\": {\"_id\": {\"zip\": \"$address.zipcode\"}, \"count\": {\"$sum\": 1}}},\n",
    "        {\"$sort\": {\"count\": -1}}\n",
    "    ]\n",
    ")"
   ]
  },
  {
   "cell_type": "code",
   "execution_count": 62,
   "metadata": {
    "collapsed": false
   },
   "outputs": [
    {
     "name": "stdout",
     "output_type": "stream",
     "text": [
      "{'_id': {'zip': '10003'}, 'count': 686}\n",
      "\n",
      "{'_id': {'zip': '10019'}, 'count': 675}\n",
      "\n",
      "{'_id': {'zip': '10036'}, 'count': 611}\n",
      "\n",
      "{'_id': {'zip': '10001'}, 'count': 520}\n",
      "\n",
      "{'_id': {'zip': '10022'}, 'count': 485}\n",
      "\n"
     ]
    }
   ],
   "source": [
    "print_my_docs(cursor, 5)"
   ]
  },
  {
   "cell_type": "code",
   "execution_count": 63,
   "metadata": {
    "collapsed": true
   },
   "outputs": [],
   "source": [
    "# what will this do?\n",
    "cursor = restaurants.aggregate(\n",
    "    [\n",
    "        {\"$group\": {\"_id\": {\"cuisine\": \"$cuisine\", \"zip\": \"$address.zipcode\"}, \"count\": {\"$sum\": 1}}},\n",
    "        {\"$sort\": {\"count\": -1}}\n",
    "    ]\n",
    ")"
   ]
  },
  {
   "cell_type": "code",
   "execution_count": 64,
   "metadata": {
    "collapsed": false
   },
   "outputs": [
    {
     "name": "stdout",
     "output_type": "stream",
     "text": [
      "{'_id': {'zip': '10019', 'cuisine': 'American '}, 'count': 275}\n",
      "\n",
      "{'_id': {'zip': '10036', 'cuisine': 'American '}, 'count': 270}\n",
      "\n",
      "{'_id': {'zip': '10003', 'cuisine': 'American '}, 'count': 190}\n",
      "\n",
      "{'_id': {'zip': '10022', 'cuisine': 'American '}, 'count': 188}\n",
      "\n",
      "{'_id': {'zip': '10001', 'cuisine': 'American '}, 'count': 185}\n",
      "\n"
     ]
    }
   ],
   "source": [
    "print_my_docs(cursor, 5)"
   ]
  },
  {
   "cell_type": "markdown",
   "metadata": {},
   "source": [
    "### Limiting the number of results"
   ]
  },
  {
   "cell_type": "code",
   "execution_count": 65,
   "metadata": {
    "collapsed": false
   },
   "outputs": [
    {
     "name": "stdout",
     "output_type": "stream",
     "text": [
      "American  10019 275\n",
      "American  10036 270\n",
      "American  10003 190\n",
      "American  10022 188\n",
      "American  10001 185\n",
      "American  10011 153\n",
      "American  10014 140\n",
      "American  10017 133\n",
      "American  10012 130\n",
      "American  10018 130\n"
     ]
    }
   ],
   "source": [
    "# what will this do?\n",
    "\n",
    "cursor = restaurants.aggregate(\n",
    "    [\n",
    "        {\"$group\": {\"_id\": {\"cuisine\": \"$cuisine\", \"zip\": \"$address.zipcode\"}, \"count\": {\"$sum\": 1}}},\n",
    "        {\"$sort\": {\"count\": -1}},\n",
    "        {\"$limit\": 10} # See comment under \"In-class questions\"\n",
    "    ]\n",
    ")\n",
    "\n",
    "for doc in cursor:\n",
    "    print(doc[\"_id\"][\"cuisine\"], doc[\"_id\"][\"zip\"], doc[\"count\"])"
   ]
  },
  {
   "cell_type": "markdown",
   "metadata": {},
   "source": [
    "### Storing the result as a collection"
   ]
  },
  {
   "cell_type": "markdown",
   "metadata": {},
   "source": [
    "We can use operator [\\$out](https://docs.mongodb.org/manual/reference/operator/aggregation/out/) in a final stage to store the result of a query into a new collection. The following example selects restaurants from Manhattan and stores them in their own collection in the same database."
   ]
  },
  {
   "cell_type": "code",
   "execution_count": 66,
   "metadata": {
    "collapsed": false
   },
   "outputs": [
    {
     "data": {
      "text/plain": [
       "<pymongo.command_cursor.CommandCursor at 0x105420a20>"
      ]
     },
     "execution_count": 66,
     "metadata": {},
     "output_type": "execute_result"
    }
   ],
   "source": [
    "restaurants.aggregate(\n",
    "    [\n",
    "        {\"$match\": {\"borough\": \"Manhattan\"}},\n",
    "        {\"$out\": \"manhattan\"}\n",
    "    ]\n",
    ")"
   ]
  },
  {
   "cell_type": "markdown",
   "metadata": {},
   "source": [
    "## SQL to Aggregation\n",
    "\n",
    "Here we explore the correspondence between SQL queries and the aggregation framework."
   ]
  },
  {
   "cell_type": "markdown",
   "metadata": {},
   "source": [
    "** SQL query **\n",
    "```\n",
    "SELECT COUNT(*) AS count\n",
    "FROM restaurants\n",
    "```"
   ]
  },
  {
   "cell_type": "code",
   "execution_count": 67,
   "metadata": {
    "collapsed": false
   },
   "outputs": [],
   "source": [
    "cursor = restaurants.aggregate(\n",
    "    [\n",
    "        {\"$group\": {\"_id\": None, \"count\": {\"$sum\": 1}} }\n",
    "    ]\n",
    ")"
   ]
  },
  {
   "cell_type": "markdown",
   "metadata": {},
   "source": [
    "** SQL query **\n",
    "```\n",
    "SELECT borough, cuisine, COUNT(*) as count\n",
    "FROM restaurants\n",
    "GROUP BY borough, cuisine\n",
    "```"
   ]
  },
  {
   "cell_type": "code",
   "execution_count": 68,
   "metadata": {
    "collapsed": true
   },
   "outputs": [],
   "source": [
    "cursor = restaurants.aggregate(\n",
    "    [\n",
    "        {\"$group\": {\"_id\": {\"borough\": \"$borough\", \"cuisine\": \"$cuisine\"}, \"count\": {\"$sum\": 1}}}\n",
    "    ]\n",
    ")"
   ]
  },
  {
   "cell_type": "markdown",
   "metadata": {},
   "source": [
    "** SQL query **\n",
    "```\n",
    "SELECT borough, cuisine, COUNT(*) as count\n",
    "FROM restaurants\n",
    "GROUP BY borough, cuisine\n",
    "HAVING COUNT(*) > 3\n",
    "```"
   ]
  },
  {
   "cell_type": "code",
   "execution_count": 69,
   "metadata": {
    "collapsed": true
   },
   "outputs": [],
   "source": [
    "cursor = restaurants.aggregate(\n",
    "    [\n",
    "        {\"$group\": {\"_id\": {\"borough\": \"$borough\", \"cuisine\": \"$cuisine\"}, \"count\": {\"$sum\": 1}}},\n",
    "        {\"$match\": {\"count\": {\"$gt\": 3}}}\n",
    "    ]\n",
    ")"
   ]
  },
  {
   "cell_type": "markdown",
   "metadata": {},
   "source": [
    "** SQL Query **\n",
    "```\n",
    "SELECT zipcode, cuisine, COUNT(*) as count\n",
    "FROM restaurants\n",
    "WHERE borough = \"Manhattan\"\n",
    "GROUP BY zipcode, cuisine\n",
    "HAVING COUNT(*) > 3\n",
    "```"
   ]
  },
  {
   "cell_type": "code",
   "execution_count": 70,
   "metadata": {
    "collapsed": false
   },
   "outputs": [],
   "source": [
    "cursor = restaurants.aggregate(\n",
    "    [\n",
    "        {\"$match\": {\"borough\": \"Manhattan\"}},\n",
    "        {\"$group\": {\"_id\": {\"zipcode\": \"$address.zipcode\", \"cuisine\": \"$cuisine\"}, \"count\": {\"$sum\": 1}}},\n",
    "        {\"$match\": {\"count\": {\"$gt\": 3}}}\n",
    "    ]\n",
    ")"
   ]
  },
  {
   "cell_type": "code",
   "execution_count": 71,
   "metadata": {
    "collapsed": false
   },
   "outputs": [
    {
     "name": "stdout",
     "output_type": "stream",
     "text": [
      "{'_id': {'cuisine': 'Other', 'zipcode': '10035'}, 'count': 5}\n",
      "\n",
      "{'_id': {'cuisine': 'Other', 'zipcode': '10023'}, 'count': 4}\n",
      "\n",
      "{'_id': {'cuisine': 'Other', 'zipcode': '10018'}, 'count': 5}\n",
      "\n",
      "{'_id': {'cuisine': 'Other', 'zipcode': '10004'}, 'count': 6}\n",
      "\n",
      "{'_id': {'cuisine': 'Other', 'zipcode': '10022'}, 'count': 5}\n",
      "\n"
     ]
    }
   ],
   "source": [
    "print_my_docs(cursor, 5)"
   ]
  },
  {
   "cell_type": "markdown",
   "metadata": {},
   "source": [
    "** SQL Query **\n",
    "```\n",
    "SELECT zipcode, cuisine, COUNT(*) as count\n",
    "FROM restaurants\n",
    "WHERE borough = \"Manhattan\"\n",
    "GROUP BY zipcode, cuisine\n",
    "HAVING COUNT(*) > 3\n",
    "ORDER BY count\n",
    "```"
   ]
  },
  {
   "cell_type": "code",
   "execution_count": 72,
   "metadata": {
    "collapsed": true
   },
   "outputs": [],
   "source": [
    "cursor = restaurants.aggregate(\n",
    "    [\n",
    "        {\"$match\": {\"borough\": \"Manhattan\"}},\n",
    "        {\"$group\": {\"_id\": {\"zipcode\": \"$address.zipcode\", \"cuisine\": \"$cuisine\"}, \"count\": {\"$sum\": 1}}},\n",
    "        {\"$match\": {\"count\": {\"$gt\": 3}}},\n",
    "        {\"$sort\": {\"count\": 1}}\n",
    "    ]\n",
    ")"
   ]
  },
  {
   "cell_type": "markdown",
   "metadata": {},
   "source": [
    "## Using secondary memory (disk)"
   ]
  },
  {
   "cell_type": "code",
   "execution_count": 73,
   "metadata": {
    "collapsed": false
   },
   "outputs": [],
   "source": [
    "cursor = restaurants.aggregate(\n",
    "    [\n",
    "        {\"$match\": {\"borough\": \"Manhattan\"}},\n",
    "        {\"$group\": {\"_id\": {\"zipcode\": \"$address.zipcode\", \"cuisine\": \"$cuisine\"}, \"count\": {\"$sum\": 1}}},\n",
    "        {\"$match\": {\"count\": {\"$gt\": 3}}},\n",
    "        {\"$sort\": {\"count\": 1}}\n",
    "    ],\n",
    "    allowDiskUse = True # this can be useful when data does not fit in memory, e.g., to perform external sorting\n",
    ")"
   ]
  },
  {
   "cell_type": "markdown",
   "metadata": {},
   "source": [
    "## Indexing\n",
    "\n",
    "MongoDb automatically creates an index on the `_id` field upon creating a collection.\n",
    "We can use `create_index()` to create index on one or more fields of a collection."
   ]
  },
  {
   "cell_type": "markdown",
   "metadata": {},
   "source": [
    "### Single-field index"
   ]
  },
  {
   "cell_type": "code",
   "execution_count": 74,
   "metadata": {
    "collapsed": false
   },
   "outputs": [
    {
     "data": {
      "text/plain": [
       "'borough_1'"
      ]
     },
     "execution_count": 74,
     "metadata": {},
     "output_type": "execute_result"
    }
   ],
   "source": [
    "# note that the argument is a list of tuples\n",
    "# [(<field>: <type>), ...]\n",
    "# here, we specify only one such tuple for one field\n",
    "restaurants.create_index([(\"borough\", pm.ASCENDING)])"
   ]
  },
  {
   "cell_type": "markdown",
   "metadata": {},
   "source": [
    "The index is created only if it does not already exist."
   ]
  },
  {
   "cell_type": "markdown",
   "metadata": {},
   "source": [
    "### Compound index"
   ]
  },
  {
   "cell_type": "code",
   "execution_count": 75,
   "metadata": {
    "collapsed": false
   },
   "outputs": [
    {
     "data": {
      "text/plain": [
       "'cuisine_1_address.zipcode_-1'"
      ]
     },
     "execution_count": 75,
     "metadata": {},
     "output_type": "execute_result"
    }
   ],
   "source": [
    "# compound index (more than one indexed fields)\n",
    "restaurants.create_index([\n",
    "    (\"cuisine\", pm.ASCENDING),\n",
    "    (\"address.zipcode\", pm.DESCENDING)\n",
    "])"
   ]
  },
  {
   "cell_type": "markdown",
   "metadata": {},
   "source": [
    "### Deleting indexes"
   ]
  },
  {
   "cell_type": "code",
   "execution_count": 76,
   "metadata": {
    "collapsed": false
   },
   "outputs": [],
   "source": [
    "restaurants.drop_index('borough_1') # drop this index"
   ]
  },
  {
   "cell_type": "code",
   "execution_count": 77,
   "metadata": {
    "collapsed": true
   },
   "outputs": [],
   "source": [
    "restaurants.drop_index('cuisine_1_address.zipcode_-1') # drop that index"
   ]
  },
  {
   "cell_type": "code",
   "execution_count": 78,
   "metadata": {
    "collapsed": false
   },
   "outputs": [],
   "source": [
    "restaurants.drop_indexes() # drop all indexes!!1"
   ]
  },
  {
   "cell_type": "markdown",
   "metadata": {},
   "source": [
    "### Multi-key index\n",
    "\n",
    "An index for a fields with array value."
   ]
  },
  {
   "cell_type": "code",
   "execution_count": 79,
   "metadata": {
    "collapsed": false
   },
   "outputs": [
    {
     "data": {
      "text/plain": [
       "{'_id': ObjectId('56d07ec4bda572c67c0a1b60'),\n",
       " 'address': {'building': '469',\n",
       "  'coord': [-73.961704, 40.662942],\n",
       "  'street': 'Flatbush Avenue',\n",
       "  'zipcode': '11225'},\n",
       " 'borough': 'Brooklyn',\n",
       " 'cuisine': 'Hamburgers',\n",
       " 'grades': [{'date': datetime.datetime(2014, 12, 30, 0, 0),\n",
       "   'grade': 'A',\n",
       "   'score': 8},\n",
       "  {'date': datetime.datetime(2014, 7, 1, 0, 0), 'grade': 'B', 'score': 23},\n",
       "  {'date': datetime.datetime(2013, 4, 30, 0, 0), 'grade': 'A', 'score': 12},\n",
       "  {'date': datetime.datetime(2012, 5, 8, 0, 0), 'grade': 'A', 'score': 12}],\n",
       " 'name': \"Wendy'S\",\n",
       " 'restaurant_id': '30112340'}"
      ]
     },
     "execution_count": 79,
     "metadata": {},
     "output_type": "execute_result"
    }
   ],
   "source": [
    "restaurants.find_one()"
   ]
  },
  {
   "cell_type": "code",
   "execution_count": 80,
   "metadata": {
    "collapsed": false
   },
   "outputs": [
    {
     "data": {
      "text/plain": [
       "'address.coord_1'"
      ]
     },
     "execution_count": 80,
     "metadata": {},
     "output_type": "execute_result"
    }
   ],
   "source": [
    "restaurants.create_index([(\"address.coord\", 1)])"
   ]
  },
  {
   "cell_type": "code",
   "execution_count": 81,
   "metadata": {
    "collapsed": false
   },
   "outputs": [
    {
     "data": {
      "text/plain": [
       "'grades.score_1'"
      ]
     },
     "execution_count": 81,
     "metadata": {},
     "output_type": "execute_result"
    }
   ],
   "source": [
    "restaurants.create_index([(\"grades.score\", 1)])"
   ]
  },
  {
   "cell_type": "code",
   "execution_count": 82,
   "metadata": {
    "collapsed": false
   },
   "outputs": [
    {
     "data": {
      "text/plain": [
       "'grades.grade_1_grades.score_1'"
      ]
     },
     "execution_count": 82,
     "metadata": {},
     "output_type": "execute_result"
    }
   ],
   "source": [
    "restaurants.create_index([(\"grades.grade\", 1), (\"grades.score\", 1)])"
   ]
  },
  {
   "cell_type": "markdown",
   "metadata": {},
   "source": [
    "The following will not work!\n",
    "We cannot _currently_ have compound multi-key indexes."
   ]
  },
  {
   "cell_type": "code",
   "execution_count": 83,
   "metadata": {
    "collapsed": false,
    "scrolled": true
   },
   "outputs": [
    {
     "ename": "OperationFailure",
     "evalue": "command SON([('createIndexes', 'restaurants'), ('indexes', [{'name': 'address.coord_1_grades.score_1', 'key': SON([('address.coord', 1), ('grades.score', 1)])}])]) on namespace moderndb.$cmd failed: cannot index parallel arrays [grades] [coord]",
     "output_type": "error",
     "traceback": [
      "\u001b[0;31m---------------------------------------------------------------------------\u001b[0m",
      "\u001b[0;31mOperationFailure\u001b[0m                          Traceback (most recent call last)",
      "\u001b[0;32m<ipython-input-83-1a1c6210fb36>\u001b[0m in \u001b[0;36m<module>\u001b[0;34m()\u001b[0m\n\u001b[0;32m----> 1\u001b[0;31m \u001b[0mrestaurants\u001b[0m\u001b[0;34m.\u001b[0m\u001b[0mcreate_index\u001b[0m\u001b[0;34m(\u001b[0m\u001b[0;34m[\u001b[0m\u001b[0;34m(\u001b[0m\u001b[0;34m\"address.coord\"\u001b[0m\u001b[0;34m,\u001b[0m \u001b[0;36m1\u001b[0m\u001b[0;34m)\u001b[0m\u001b[0;34m,\u001b[0m \u001b[0;34m(\u001b[0m\u001b[0;34m\"grades.score\"\u001b[0m\u001b[0;34m,\u001b[0m \u001b[0;36m1\u001b[0m\u001b[0;34m)\u001b[0m\u001b[0;34m]\u001b[0m\u001b[0;34m)\u001b[0m \u001b[0;31m# NOPE!\u001b[0m\u001b[0;34m\u001b[0m\u001b[0m\n\u001b[0m",
      "\u001b[0;32m/Users/mathiom1/anaconda/lib/python3.5/site-packages/pymongo-3.2.1-py3.5-macosx-10.5-x86_64.egg/pymongo/collection.py\u001b[0m in \u001b[0;36mcreate_index\u001b[0;34m(self, keys, **kwargs)\u001b[0m\n\u001b[1;32m   1378\u001b[0m         \u001b[0mkeys\u001b[0m \u001b[0;34m=\u001b[0m \u001b[0mhelpers\u001b[0m\u001b[0;34m.\u001b[0m\u001b[0m_index_list\u001b[0m\u001b[0;34m(\u001b[0m\u001b[0mkeys\u001b[0m\u001b[0;34m)\u001b[0m\u001b[0;34m\u001b[0m\u001b[0m\n\u001b[1;32m   1379\u001b[0m         \u001b[0mname\u001b[0m \u001b[0;34m=\u001b[0m \u001b[0mkwargs\u001b[0m\u001b[0;34m.\u001b[0m\u001b[0msetdefault\u001b[0m\u001b[0;34m(\u001b[0m\u001b[0;34m\"name\"\u001b[0m\u001b[0;34m,\u001b[0m \u001b[0mhelpers\u001b[0m\u001b[0;34m.\u001b[0m\u001b[0m_gen_index_name\u001b[0m\u001b[0;34m(\u001b[0m\u001b[0mkeys\u001b[0m\u001b[0;34m)\u001b[0m\u001b[0;34m)\u001b[0m\u001b[0;34m\u001b[0m\u001b[0m\n\u001b[0;32m-> 1380\u001b[0;31m         \u001b[0mself\u001b[0m\u001b[0;34m.\u001b[0m\u001b[0m__create_index\u001b[0m\u001b[0;34m(\u001b[0m\u001b[0mkeys\u001b[0m\u001b[0;34m,\u001b[0m \u001b[0mkwargs\u001b[0m\u001b[0;34m)\u001b[0m\u001b[0;34m\u001b[0m\u001b[0m\n\u001b[0m\u001b[1;32m   1381\u001b[0m         \u001b[0;32mreturn\u001b[0m \u001b[0mname\u001b[0m\u001b[0;34m\u001b[0m\u001b[0m\n\u001b[1;32m   1382\u001b[0m \u001b[0;34m\u001b[0m\u001b[0m\n",
      "\u001b[0;32m/Users/mathiom1/anaconda/lib/python3.5/site-packages/pymongo-3.2.1-py3.5-macosx-10.5-x86_64.egg/pymongo/collection.py\u001b[0m in \u001b[0;36m__create_index\u001b[0;34m(self, keys, index_options)\u001b[0m\n\u001b[1;32m   1288\u001b[0m             \u001b[0;32mtry\u001b[0m\u001b[0;34m:\u001b[0m\u001b[0;34m\u001b[0m\u001b[0m\n\u001b[1;32m   1289\u001b[0m                 self._command(\n\u001b[0;32m-> 1290\u001b[0;31m                     sock_info, cmd, read_preference=ReadPreference.PRIMARY)\n\u001b[0m\u001b[1;32m   1291\u001b[0m             \u001b[0;32mexcept\u001b[0m \u001b[0mOperationFailure\u001b[0m \u001b[0;32mas\u001b[0m \u001b[0mexc\u001b[0m\u001b[0;34m:\u001b[0m\u001b[0;34m\u001b[0m\u001b[0m\n\u001b[1;32m   1292\u001b[0m                 \u001b[0;32mif\u001b[0m \u001b[0mexc\u001b[0m\u001b[0;34m.\u001b[0m\u001b[0mcode\u001b[0m \u001b[0;32min\u001b[0m \u001b[0mcommon\u001b[0m\u001b[0;34m.\u001b[0m\u001b[0mCOMMAND_NOT_FOUND_CODES\u001b[0m\u001b[0;34m:\u001b[0m\u001b[0;34m\u001b[0m\u001b[0m\n",
      "\u001b[0;32m/Users/mathiom1/anaconda/lib/python3.5/site-packages/pymongo-3.2.1-py3.5-macosx-10.5-x86_64.egg/pymongo/collection.py\u001b[0m in \u001b[0;36m_command\u001b[0;34m(self, sock_info, command, slave_ok, read_preference, codec_options, check, allowable_errors, read_concern)\u001b[0m\n\u001b[1;32m    203\u001b[0m                                  \u001b[0mcheck\u001b[0m\u001b[0;34m,\u001b[0m\u001b[0;34m\u001b[0m\u001b[0m\n\u001b[1;32m    204\u001b[0m                                  \u001b[0mallowable_errors\u001b[0m\u001b[0;34m,\u001b[0m\u001b[0;34m\u001b[0m\u001b[0m\n\u001b[0;32m--> 205\u001b[0;31m                                  read_concern=read_concern)\n\u001b[0m\u001b[1;32m    206\u001b[0m \u001b[0;34m\u001b[0m\u001b[0m\n\u001b[1;32m    207\u001b[0m     \u001b[0;32mdef\u001b[0m \u001b[0m__create\u001b[0m\u001b[0;34m(\u001b[0m\u001b[0mself\u001b[0m\u001b[0;34m,\u001b[0m \u001b[0moptions\u001b[0m\u001b[0;34m)\u001b[0m\u001b[0;34m:\u001b[0m\u001b[0;34m\u001b[0m\u001b[0m\n",
      "\u001b[0;32m/Users/mathiom1/anaconda/lib/python3.5/site-packages/pymongo-3.2.1-py3.5-macosx-10.5-x86_64.egg/pymongo/pool.py\u001b[0m in \u001b[0;36mcommand\u001b[0;34m(self, dbname, spec, slave_ok, read_preference, codec_options, check, allowable_errors, check_keys, read_concern)\u001b[0m\n\u001b[1;32m    211\u001b[0m                            \u001b[0mcheck\u001b[0m\u001b[0;34m,\u001b[0m \u001b[0mallowable_errors\u001b[0m\u001b[0;34m,\u001b[0m \u001b[0mself\u001b[0m\u001b[0;34m.\u001b[0m\u001b[0maddress\u001b[0m\u001b[0;34m,\u001b[0m\u001b[0;34m\u001b[0m\u001b[0m\n\u001b[1;32m    212\u001b[0m                            \u001b[0mcheck_keys\u001b[0m\u001b[0;34m,\u001b[0m \u001b[0mself\u001b[0m\u001b[0;34m.\u001b[0m\u001b[0mlisteners\u001b[0m\u001b[0;34m,\u001b[0m \u001b[0mself\u001b[0m\u001b[0;34m.\u001b[0m\u001b[0mmax_bson_size\u001b[0m\u001b[0;34m,\u001b[0m\u001b[0;34m\u001b[0m\u001b[0m\n\u001b[0;32m--> 213\u001b[0;31m                            read_concern)\n\u001b[0m\u001b[1;32m    214\u001b[0m         \u001b[0;32mexcept\u001b[0m \u001b[0mOperationFailure\u001b[0m\u001b[0;34m:\u001b[0m\u001b[0;34m\u001b[0m\u001b[0m\n\u001b[1;32m    215\u001b[0m             \u001b[0;32mraise\u001b[0m\u001b[0;34m\u001b[0m\u001b[0m\n",
      "\u001b[0;32m/Users/mathiom1/anaconda/lib/python3.5/site-packages/pymongo-3.2.1-py3.5-macosx-10.5-x86_64.egg/pymongo/network.py\u001b[0m in \u001b[0;36mcommand\u001b[0;34m(sock, dbname, spec, slave_ok, is_mongos, read_preference, codec_options, check, allowable_errors, address, check_keys, listeners, max_bson_size, read_concern)\u001b[0m\n\u001b[1;32m     99\u001b[0m             msg = \"command %s on namespace %s failed: %%s\" % (\n\u001b[1;32m    100\u001b[0m                 repr(spec).replace(\"%\", \"%%\"), ns)\n\u001b[0;32m--> 101\u001b[0;31m             \u001b[0mhelpers\u001b[0m\u001b[0;34m.\u001b[0m\u001b[0m_check_command_response\u001b[0m\u001b[0;34m(\u001b[0m\u001b[0mresponse_doc\u001b[0m\u001b[0;34m,\u001b[0m \u001b[0mmsg\u001b[0m\u001b[0;34m,\u001b[0m \u001b[0mallowable_errors\u001b[0m\u001b[0;34m)\u001b[0m\u001b[0;34m\u001b[0m\u001b[0m\n\u001b[0m\u001b[1;32m    102\u001b[0m     \u001b[0;32mexcept\u001b[0m \u001b[0mException\u001b[0m \u001b[0;32mas\u001b[0m \u001b[0mexc\u001b[0m\u001b[0;34m:\u001b[0m\u001b[0;34m\u001b[0m\u001b[0m\n\u001b[1;32m    103\u001b[0m         \u001b[0;32mif\u001b[0m \u001b[0mpublish\u001b[0m\u001b[0;34m:\u001b[0m\u001b[0;34m\u001b[0m\u001b[0m\n",
      "\u001b[0;32m/Users/mathiom1/anaconda/lib/python3.5/site-packages/pymongo-3.2.1-py3.5-macosx-10.5-x86_64.egg/pymongo/helpers.py\u001b[0m in \u001b[0;36m_check_command_response\u001b[0;34m(response, msg, allowable_errors)\u001b[0m\n\u001b[1;32m    194\u001b[0m \u001b[0;34m\u001b[0m\u001b[0m\n\u001b[1;32m    195\u001b[0m             \u001b[0mmsg\u001b[0m \u001b[0;34m=\u001b[0m \u001b[0mmsg\u001b[0m \u001b[0;32mor\u001b[0m \u001b[0;34m\"%s\"\u001b[0m\u001b[0;34m\u001b[0m\u001b[0m\n\u001b[0;32m--> 196\u001b[0;31m             \u001b[0;32mraise\u001b[0m \u001b[0mOperationFailure\u001b[0m\u001b[0;34m(\u001b[0m\u001b[0mmsg\u001b[0m \u001b[0;34m%\u001b[0m \u001b[0merrmsg\u001b[0m\u001b[0;34m,\u001b[0m \u001b[0mcode\u001b[0m\u001b[0;34m,\u001b[0m \u001b[0mresponse\u001b[0m\u001b[0;34m)\u001b[0m\u001b[0;34m\u001b[0m\u001b[0m\n\u001b[0m\u001b[1;32m    197\u001b[0m \u001b[0;34m\u001b[0m\u001b[0m\n\u001b[1;32m    198\u001b[0m \u001b[0;34m\u001b[0m\u001b[0m\n",
      "\u001b[0;31mOperationFailure\u001b[0m: command SON([('createIndexes', 'restaurants'), ('indexes', [{'name': 'address.coord_1_grades.score_1', 'key': SON([('address.coord', 1), ('grades.score', 1)])}])]) on namespace moderndb.$cmd failed: cannot index parallel arrays [grades] [coord]"
     ]
    }
   ],
   "source": [
    "restaurants.create_index([(\"address.coord\", 1), (\"grades.score\", 1)]) # NOPE!"
   ]
  },
  {
   "cell_type": "markdown",
   "metadata": {},
   "source": [
    "## Retrieving the execution plan\n",
    "\n",
    "We can retrieve the execution plan for a **find()** query by calling the [explain()](https://docs.mongodb.org/manual/reference/method/cursor.explain/) function on the result cursor. We demonstrate this in the following example."
   ]
  },
  {
   "cell_type": "code",
   "execution_count": 84,
   "metadata": {
    "collapsed": false
   },
   "outputs": [
    {
     "data": {
      "text/plain": [
       "{'inputStage': {'direction': 'forward',\n",
       "  'indexBounds': {'borough': ['[\"brooklyn\", \"brooklyn\"]']},\n",
       "  'indexName': 'borough_1',\n",
       "  'indexVersion': 1,\n",
       "  'isMultiKey': False,\n",
       "  'isPartial': False,\n",
       "  'isSparse': False,\n",
       "  'isUnique': False,\n",
       "  'keyPattern': {'borough': 1},\n",
       "  'stage': 'IXSCAN'},\n",
       " 'stage': 'FETCH'}"
      ]
     },
     "execution_count": 84,
     "metadata": {},
     "output_type": "execute_result"
    }
   ],
   "source": [
    "restaurants.drop_indexes() # we drop all indexes first -- use this with care!\n",
    "restaurants.create_index([(\"borough\", pm.ASCENDING)]) # build an index on field \"borough\", in ascending order\n",
    "my_cursor = restaurants.find({\"borough\": \"brooklyn\"}) # submit query to find restaurants from specific borough\n",
    "my_cursor.explain()[\"queryPlanner\"][\"winningPlan\"] # ask mongodb to explain execution plan"
   ]
  },
  {
   "cell_type": "markdown",
   "metadata": {},
   "source": [
    "As we see in this example, MongoDB makes use of an index (as indicated by keyword \"IXSCAN\") -- and particularly the index ('borough_1') we constructed to execute the query.\n",
    "What if we had not built this index?"
   ]
  },
  {
   "cell_type": "code",
   "execution_count": 85,
   "metadata": {
    "collapsed": false
   },
   "outputs": [
    {
     "data": {
      "text/plain": [
       "{'direction': 'forward',\n",
       " 'filter': {'borough': {'$eq': 'brooklyn'}},\n",
       " 'stage': 'COLLSCAN'}"
      ]
     },
     "execution_count": 85,
     "metadata": {},
     "output_type": "execute_result"
    }
   ],
   "source": [
    "restaurants.drop_indexes() # we drop all indexes first -- use this with care!\n",
    "my_cursor = restaurants.find({\"borough\": \"brooklyn\"}) # submit query to find restaurants from specific borough\n",
    "my_cursor.explain()[\"queryPlanner\"][\"winningPlan\"] # ask mongodb to explain execution plan"
   ]
  },
  {
   "cell_type": "markdown",
   "metadata": {},
   "source": [
    "In that case, MongoDB simply performs a scan over the collection (as indicated by keyword \"COLLSCAN\")."
   ]
  },
  {
   "cell_type": "markdown",
   "metadata": {},
   "source": [
    "## Joins\n",
    "\n",
    "Until very recently, MongoDB did not support joins.\n",
    "It was up to the user to implement a join if needed.\n",
    "\n",
    "For example, the following double for-loop emulated \"page-oriented nested-loops join\"."
   ]
  },
  {
   "cell_type": "code",
   "execution_count": 86,
   "metadata": {
    "collapsed": false
   },
   "outputs": [
    {
     "name": "stdout",
     "output_type": "stream",
     "text": [
      "American  10065 10460\n",
      "American  10021 10460\n",
      "American  10025 10460\n",
      "American  10012 10460\n"
     ]
    }
   ],
   "source": [
    "for a in restaurants.find({\"borough\": \"Manhattan\"}).limit(7):\n",
    "    for b in restaurants.find({\"borough\": \"Bronx\"}).limit(5):\n",
    "        if a[\"cuisine\"] == b[\"cuisine\"]:\n",
    "            print(a[\"cuisine\"], a[\"address\"][\"zipcode\"], b[\"address\"][\"zipcode\"])\n",
    "    "
   ]
  },
  {
   "cell_type": "markdown",
   "metadata": {},
   "source": [
    "### Joins with \\$lookup\n",
    "\n",
    "This is a new aggregation stage that implements *left outer equi-joins*.\n",
    "\n",
    "\"A [left outer equi-join](https://www.mongodb.com/blog/post/joins-and-other-aggregation-enhancements-coming-in-mongodb-3-2-part-1-of-3-introduction) produces a result set that contains data for all documents from the left table (collection) together with data from the right table (collection) for documents where there is a match with documents from the left table (collection).\""
   ]
  },
  {
   "cell_type": "code",
   "execution_count": 87,
   "metadata": {
    "collapsed": false
   },
   "outputs": [
    {
     "data": {
      "text/plain": [
       "<pymongo.results.InsertManyResult at 0x1053a66c0>"
      ]
     },
     "execution_count": 87,
     "metadata": {},
     "output_type": "execute_result"
    }
   ],
   "source": [
    "# create first collection\n",
    "orders_docs = [{ \"_id\" : 1, \"item\" : \"abc\", \"price\" : 12, \"quantity\" : 2 },\n",
    "{ \"_id\" : 2, \"item\" : \"jkl\", \"price\" : 20, \"quantity\" : 1 },\n",
    "{ \"_id\" : 3  }]\n",
    "orders = db.orders\n",
    "orders.drop()\n",
    "orders.insert_many(orders_docs)"
   ]
  },
  {
   "cell_type": "code",
   "execution_count": 88,
   "metadata": {
    "collapsed": false
   },
   "outputs": [
    {
     "data": {
      "text/plain": [
       "<pymongo.results.InsertManyResult at 0x1053f8a20>"
      ]
     },
     "execution_count": 88,
     "metadata": {},
     "output_type": "execute_result"
    }
   ],
   "source": [
    "# create second collection\n",
    "inventory_docs = [\n",
    "    { \"_id\" : 1, \"item\" : \"abc\", \"description\": \"product 1\", \"instock\" : 120 },\n",
    "{ \"_id\" : 2, \"item\" : \"def\", \"description\": \"product 2\", \"instock\" : 80 },\n",
    "{ \"_id\" : 3, \"item\" : \"ijk\", \"description\": \"product 3\", \"instock\" : 60 },\n",
    "{ \"_id\" : 4, \"item\" : \"jkl\", \"description\": \"product 4\", \"instock\" : 70 },\n",
    "{ \"_id\" : 5, \"item\": None, \"description\": \"Incomplete\" },\n",
    "{ \"_id\" : 6 }\n",
    "]\n",
    "inventory = db.inventory\n",
    "inventory.drop()\n",
    "inventory.insert_many(inventory_docs)"
   ]
  },
  {
   "cell_type": "code",
   "execution_count": 89,
   "metadata": {
    "collapsed": false
   },
   "outputs": [],
   "source": [
    "result = orders.aggregate([ # \"orders\" is the outer collection\n",
    "    {\n",
    "      \"$lookup\":\n",
    "        {\n",
    "          \"from\": \"inventory\", # the inner collection \n",
    "          \"localField\": \"item\", # the join field of the outer collection\n",
    "          \"foreignField\": \"item\", # the join field of the outer collection\n",
    "          \"as\": \"inventory_docs\" # name of field with array of joined inner docs\n",
    "        }\n",
    "   }\n",
    "])"
   ]
  },
  {
   "cell_type": "code",
   "execution_count": 90,
   "metadata": {
    "collapsed": false
   },
   "outputs": [
    {
     "name": "stdout",
     "output_type": "stream",
     "text": [
      "{'item': 'abc', '_id': 1, 'inventory_docs': [{'item': 'abc', '_id': 1, 'instock': 120, 'description': 'product 1'}], 'price': 12, 'quantity': 2}\n",
      "\n",
      "{'item': 'jkl', '_id': 2, 'inventory_docs': [{'item': 'jkl', '_id': 4, 'instock': 70, 'description': 'product 4'}], 'price': 20, 'quantity': 1}\n",
      "\n",
      "{'inventory_docs': [{'item': None, '_id': 5, 'description': 'Incomplete'}, {'_id': 6}], '_id': 3}\n",
      "\n"
     ]
    }
   ],
   "source": [
    "print_my_docs(result, 10)"
   ]
  },
  {
   "cell_type": "markdown",
   "metadata": {},
   "source": [
    "## In-class questions"
   ]
  },
  {
   "cell_type": "markdown",
   "metadata": {},
   "source": [
    "### Question: How do we query for documents with an array field, all the elements of which satisfy a condition?\n",
    "\n",
    "Two approaches (if you can think of a different approach, please let me know):\n",
    "* Use the [**\\$not**](https://docs.mongodb.org/manual/reference/operator/query/not/#op._S_not) operators: form a query to express that \"there is no element in the array that does not satisfy the condition\".\n",
    "* In aggregation, combine an [**\\$unwind**](https://docs.mongodb.org/manual/reference/operator/aggregation/unwind/) stage with a [**$group**](https://docs.mongodb.org/manual/reference/operator/aggregation/group/) stage.\n",
    "\n",
    "To provide an example, let's say we want to __find restaurants with 'A' grades only__.\n",
    "Below we show how we can use each of the aforementioned approaches."
   ]
  },
  {
   "cell_type": "markdown",
   "metadata": {},
   "source": [
    "#### First approach: using $not"
   ]
  },
  {
   "cell_type": "code",
   "execution_count": 91,
   "metadata": {
    "collapsed": false
   },
   "outputs": [],
   "source": [
    "# using the $not operator\n",
    "# \"find restaurants that contain no grades that are not equal to A\"\n",
    "cursor = restaurants.find({\"grades.grade\": {\"$exists\": True}, \"grades\": {\"$not\": {\"$elemMatch\": {\"grade\": {\"$ne\": \"A\"}}}}})"
   ]
  },
  {
   "cell_type": "code",
   "execution_count": 92,
   "metadata": {
    "collapsed": false
   },
   "outputs": [
    {
     "name": "stdout",
     "output_type": "stream",
     "text": [
      "{'_id': ObjectId('56d07ec4bda572c67c0a1b64'), 'name': 'Kosher Island', 'grades': [{'score': 9, 'grade': 'A', 'date': datetime.datetime(2014, 10, 6, 0, 0)}, {'score': 12, 'grade': 'A', 'date': datetime.datetime(2014, 5, 20, 0, 0)}, {'score': 12, 'grade': 'A', 'date': datetime.datetime(2013, 4, 4, 0, 0)}, {'score': 9, 'grade': 'A', 'date': datetime.datetime(2012, 1, 24, 0, 0)}], 'restaurant_id': '40356442', 'address': {'coord': [-74.1377286, 40.6119572], 'street': 'Victory Boulevard', 'zipcode': '10314', 'building': '2206'}, 'cuisine': 'Jewish/Kosher', 'borough': 'Staten Island'}\n",
      "\n",
      "{'_id': ObjectId('56d07ec4bda572c67c0a1b65'), 'name': \"Wilken'S Fine Food\", 'grades': [{'score': 10, 'grade': 'A', 'date': datetime.datetime(2014, 5, 29, 0, 0)}, {'score': 10, 'grade': 'A', 'date': datetime.datetime(2014, 1, 14, 0, 0)}, {'score': 8, 'grade': 'A', 'date': datetime.datetime(2013, 8, 3, 0, 0)}, {'score': 10, 'grade': 'A', 'date': datetime.datetime(2012, 7, 18, 0, 0)}, {'score': 13, 'grade': 'A', 'date': datetime.datetime(2012, 3, 9, 0, 0)}, {'score': 9, 'grade': 'A', 'date': datetime.datetime(2011, 10, 14, 0, 0)}], 'restaurant_id': '40356483', 'address': {'coord': [-73.9068506, 40.6199034], 'street': 'Avenue U', 'zipcode': '11234', 'building': '7114'}, 'cuisine': 'Delicatessen', 'borough': 'Brooklyn'}\n",
      "\n",
      "{'_id': ObjectId('56d07ec4bda572c67c0a1b66'), 'name': 'Regina Caterers', 'grades': [{'score': 12, 'grade': 'A', 'date': datetime.datetime(2014, 7, 18, 0, 0)}, {'score': 12, 'grade': 'A', 'date': datetime.datetime(2013, 7, 30, 0, 0)}, {'score': 11, 'grade': 'A', 'date': datetime.datetime(2013, 2, 13, 0, 0)}, {'score': 2, 'grade': 'A', 'date': datetime.datetime(2012, 8, 16, 0, 0)}, {'score': 11, 'grade': 'A', 'date': datetime.datetime(2011, 8, 17, 0, 0)}], 'restaurant_id': '40356649', 'address': {'coord': [-74.00528899999999, 40.628886], 'street': '11 Avenue', 'zipcode': '11219', 'building': '6409'}, 'cuisine': 'American ', 'borough': 'Brooklyn'}\n",
      "\n"
     ]
    }
   ],
   "source": [
    "print_my_docs(cursor, 3)"
   ]
  },
  {
   "cell_type": "markdown",
   "metadata": {},
   "source": [
    "##### Note on the semantics of the \\$not operator\n",
    "\n",
    "The operator selects documents that _do not match_ the specified condition on the specified field. These documents include ones that _do not contain_ the field.\n",
    "\n",
    "To demonstrate this, consider the following simple example of a collection."
   ]
  },
  {
   "cell_type": "code",
   "execution_count": 93,
   "metadata": {
    "collapsed": false
   },
   "outputs": [
    {
     "data": {
      "text/plain": [
       "<pymongo.results.InsertOneResult at 0x105450cf0>"
      ]
     },
     "execution_count": 93,
     "metadata": {},
     "output_type": "execute_result"
    }
   ],
   "source": [
    "# simple example of a collection\n",
    "mycoll = db.mycoll\n",
    "mycoll.drop()\n",
    "\n",
    "# insert three documents\n",
    "mycoll.insert_one({\"grades\": [7, 7]})\n",
    "mycoll.insert_one({\"grades\": [7, 3]})\n",
    "mycoll.insert_one({\"grades\": [3, 3]})\n",
    "mycoll.insert_one({\"grades\": []})\n",
    "mycoll.insert_one({})"
   ]
  },
  {
   "cell_type": "markdown",
   "metadata": {},
   "source": [
    "The result of the following query contains documents that do not contain the \"grades\" field."
   ]
  },
  {
   "cell_type": "code",
   "execution_count": 94,
   "metadata": {
    "collapsed": false
   },
   "outputs": [
    {
     "name": "stdout",
     "output_type": "stream",
     "text": [
      "{'_id': ObjectId('56d07f1112b680613210553e'), 'grades': [7, 7]}\n",
      "\n",
      "{'_id': ObjectId('56d07f1112b6806132105541'), 'grades': []}\n",
      "\n",
      "{'_id': ObjectId('56d07f1112b6806132105542')}\n",
      "\n"
     ]
    }
   ],
   "source": [
    "# find documents that have no \"grades\" elements that are not equal to \"A\"\n",
    "mycursor = mycoll.find({\"grades\": {\"$not\": {\"$elemMatch\": {\"$ne\": 7}}}})\n",
    "print_my_docs(mycursor, 10)"
   ]
  },
  {
   "cell_type": "markdown",
   "metadata": {},
   "source": [
    "We can remove such documents from the result as a post-processing step. (**Exercise**: how?)"
   ]
  },
  {
   "cell_type": "markdown",
   "metadata": {},
   "source": [
    "#### Second approach: aggregation pipeline"
   ]
  },
  {
   "cell_type": "code",
   "execution_count": 95,
   "metadata": {
    "collapsed": false
   },
   "outputs": [
    {
     "name": "stdout",
     "output_type": "stream",
     "text": [
      "{'_id': ObjectId('56d07ec4bda572c67c0a7dfa'), 'same_count': 1}\n",
      "\n",
      "{'_id': ObjectId('56d07ec4bda572c67c0a7dce'), 'same_count': 1}\n",
      "\n",
      "{'_id': ObjectId('56d07ec4bda572c67c0a7dc4'), 'same_count': 1}\n",
      "\n",
      "{'_id': ObjectId('56d07ec4bda572c67c0a7dae'), 'same_count': 1}\n",
      "\n",
      "{'_id': ObjectId('56d07ec4bda572c67c0a7d77'), 'same_count': 1}\n",
      "\n"
     ]
    }
   ],
   "source": [
    "# using aggregation\n",
    "mycursor = restaurants.aggregate(\n",
    "    [\n",
    "        # unwind the grades array\n",
    "        {\"$unwind\": \"$grades\"}, #now each document contains one \"grades\" value\n",
    "        \n",
    "        # group by document \"_id\" and count:\n",
    "        # (i) the total number of documents in each group as `count`\n",
    "        # -- this is the same as the number of elements in the original array\n",
    "        # (ii) the number of documents that satisfy the condition (grade = \"A\") as `num_satisfied`\n",
    "        {\"$group\": {\"_id\": \"$_id\", \"count\": {\"$sum\": 1}, \"num_satisfied\": {\"$sum\": {\"$cond\": [{\"$eq\": [\"$grades.grade\", \"A\"]}, 1, 0]}}}},\n",
    "        \n",
    "        # create a field (named `same`) that is 1 if (count = num_satisfied) and 0 otherwise\n",
    "        {\"$project\": {\"_id\": 1, \"same_count\": {\"$cond\": [{\"$eq\": [\"$count\", \"$num_satisfied\"]} , 1, 0]}}},\n",
    "        \n",
    "        # keep only the document ids for which (same = 1)\n",
    "        {\"$match\": {\"same_count\": 1}}\n",
    "    ]\n",
    ")\n",
    "\n",
    "print_my_docs(mycursor, 5)"
   ]
  },
  {
   "cell_type": "markdown",
   "metadata": {},
   "source": [
    "## Question: Does MongoDB optimize the stages of an aggregation pipeline?\n",
    "\n",
    "The question was asked in relation to the \"limit\" query we saw above (\"Limiting the number of results\").\n",
    "\n",
    "Indeed, MongoDB does optimize the execution of the aggregation pipeline, as explained [here](https://docs.mongodb.org/manual/core/aggregation-pipeline-optimization/). In relation to the aforementioned query, see, in particular, the part on [sort+limit coalescence](https://docs.mongodb.org/manual/core/aggregation-pipeline-optimization/#sort-limit-coalescence)."
   ]
  },
  {
   "cell_type": "markdown",
   "metadata": {},
   "source": [
    "***"
   ]
  },
  {
   "cell_type": "markdown",
   "metadata": {},
   "source": [
    "# Credits and references\n",
    "\n",
    "We used and consulted material from:\n",
    "* the offficial [PyMongo tutorial](https://docs.mongodb.org/getting-started/python/) as well as this shorter [one](http://api.mongodb.org/python/current/tutorial.html),\n",
    "* the [JSON](http://json.org/) and [BSON](http://bsonspec.org) documentation, as well as [SON](http://api.mongodb.org/python/current/api/bson/son.html#bson.son.SON),\n",
    "* these [posts](https://www.mongodb.com/blog/post/joins-and-other-aggregation-enhancements-coming-in-mongodb-3-2-part-1-of-3-introduction) on the MongoDB blog about the new (v.3.2) left outer equi-join functionality,\n",
    "* this [StackOverflow thread](http://stackoverflow.com/questions/18123300/mongo-array-query-only-find-where-all-elements-match)."
   ]
  },
  {
   "cell_type": "markdown",
   "metadata": {
    "collapsed": true
   },
   "source": [
    "***\n",
    "# Updates to the notebook\n",
    "* Compared to the in-class tutorial, we've added answers to two in-class questions.\n",
    "* [Feb 26] Added sub-sections **projecting fields**, **storing the result as a collection**, and ** retrieving the execution plan**.\n",
    "\n",
    "***\n",
    "\n",
    "# Setup\n",
    "\n",
    "Run the following commands before the rest of the notebook."
   ]
  },
  {
   "cell_type": "code",
   "execution_count": 1,
   "metadata": {
    "collapsed": true
   },
   "outputs": [],
   "source": [
    "import pymongo as pm\n",
    "client = pm.MongoClient()\n",
    "client.drop_database(\"moderndb\")"
   ]
  },
  {
   "cell_type": "code",
   "execution_count": 2,
   "metadata": {
    "collapsed": false
   },
   "outputs": [],
   "source": [
    "import bson.son as son"
   ]
  },
  {
   "cell_type": "code",
   "execution_count": null,
   "metadata": {
    "collapsed": true
   },
   "outputs": [],
   "source": []
  }
 ],
 "metadata": {
  "kernelspec": {
   "display_name": "Python 3",
   "language": "python",
   "name": "python3"
  },
  "language_info": {
   "codemirror_mode": {
    "name": "ipython",
    "version": 3
   },
   "file_extension": ".py",
   "mimetype": "text/x-python",
   "name": "python",
   "nbconvert_exporter": "python",
   "pygments_lexer": "ipython3",
   "version": "3.5.1"
  }
 },
 "nbformat": 4,
 "nbformat_minor": 0
}
